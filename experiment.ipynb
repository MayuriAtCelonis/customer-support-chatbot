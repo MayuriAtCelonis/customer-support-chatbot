{
 "cells": [
  {
   "cell_type": "code",
   "execution_count": null,
   "id": "2045c00d",
   "metadata": {},
   "outputs": [],
   "source": [
    "from ai.conversational.orchestrator import process_chat_history\n",
    "from ai.retrieval.orchestrator import retrieve_releveant_context\n",
    "\n",
    "import time\n",
    "import numpy as np\n",
    "import pandas as pd\n"
   ]
  },
  {
   "cell_type": "code",
   "execution_count": 15,
   "id": "4f958650",
   "metadata": {},
   "outputs": [],
   "source": [
    "positive_questions = [\n",
    "    \"I ordered a laptop, but it arrived with a broken screen. What should I do?\",\n",
    "    \"I'm having trouble logging in\",\n",
    "    [\"I need help resetting my password.\", \"I didn’t receive the reset link.\"]\n",
    "]\n",
    "\n",
    "negative_questions = [\n",
    "    \"My cat chewed my phone charger. Is this covered under warranty?\",\n",
    "     \"Why did you suggest contacting support?\"\n",
    "]"
   ]
  },
  {
   "cell_type": "markdown",
   "id": "73e5d343",
   "metadata": {},
   "source": [
    "# Retrieval"
   ]
  },
  {
   "cell_type": "code",
   "execution_count": 7,
   "id": "9a6e3b24",
   "metadata": {},
   "outputs": [
    {
     "data": {
      "application/vnd.jupyter.widget-view+json": {
       "model_id": "399b1f452be341508681362638165b82",
       "version_major": 2,
       "version_minor": 0
      },
      "text/plain": [
       "Batches:   0%|          | 0/1 [00:00<?, ?it/s]"
      ]
     },
     "metadata": {},
     "output_type": "display_data"
    },
    {
     "data": {
      "text/plain": [
       "(22,\n",
       " ([{'score': 0.67399895,\n",
       "    'document': {'question': 'does my charger have warranty??',\n",
       "     'answer': 'we would be happy to look into options for your Lightning charger. message us your current country of residence and we will continue together there'}},\n",
       "   {'score': 0.618856,\n",
       "    'document': {'question': 'Does this charger come with a warranty? Thank you and have a terrific day.',\n",
       "     'answer': 'We would like to help you look into all of your service options. Please meet us in message and we can take a closer look.'}},\n",
       "   {'score': 0.6054926,\n",
       "    'document': {'question': 'is this covered in the warranty',\n",
       "     'answer': 'We totally understand wanting your new iPhone X to be aesthetically perfect. Have you tried cleaning it to make sure it is not a mark on the glass? If you have not tried yet, this page elains the best way to clean it'}},\n",
       "   {'score': 0.60257417,\n",
       "    'document': {'question': 'hi, I’d like to know if this faulty is covered under warranty',\n",
       "     'answer': 'we would be happy to look into what options are available for your charging cable. message us your country and we will continue from there.'}},\n",
       "   {'score': 0.5975427,\n",
       "    'document': {'question': 'is this covered under warranty?',\n",
       "     'answer': 'Hi there, Thomas! That does not look good my friend! Send me a message and I can help make it look good again. FaisselD'}},\n",
       "   {'score': 0.5945691,\n",
       "    'document': {'question': 'Hey how do I take advantage of the warrantee on the iPhone charger?',\n",
       "     'answer': 'we would love to help! Please send us a DM, and we will look into your options together.'}},\n",
       "   {'score': 0.59200627,\n",
       "    'document': {'question': 'hello, buy an iphone7 and the charger no longer works, it has a warranty? Thanks',\n",
       "     'answer': 'we are happy to look into this with you. Are you referring to the charging cable that came with your iPhone?'}},\n",
       "   {'score': 0.5900276,\n",
       "    'document': {'question': 'do charging cables have warranty? The one that came with the phone',\n",
       "     'answer': 'Great question. The Apple Limited Warranty covers your product and Applebranded accessories against manufacturing defects for one year from the date you bought them. Are you having an issue with your iPhone charger?'}},\n",
       "   {'score': 0.58062464,\n",
       "    'document': {'question': 'Charging port came loose and is inside case of laptop so it cannot be charged. Is this covered under 1 year warranty?',\n",
       "     'answer': 'Kindly share the computers service tag, registered owners name, current region, phone number and email ID via direct message. We will be glad to assist you further How to find the service tag . 2'}},\n",
       "   {'score': 0.57443434,\n",
       "    'document': {'question': 'My charger just broke I’m sueing for inconvenience',\n",
       "     'answer': 'we would like to review some options for your charger. Please message us when you have a free moment.'}},\n",
       "   {'score': 0.5684938,\n",
       "    'document': {'question': 'I’ve had my phone for less than 2 months and the charger has already died. Will it be replaced for free?!',\n",
       "     'answer': 'we would like to help! Send us a message with the country that you are located in to continue.'}},\n",
       "   {'score': 0.5667,\n",
       "    'document': {'question': 'file a claim with since your line is covered under warranty Asurion tells me my warranty won’t cover a phone that doesn’t charge \\u200d♀️. Great',\n",
       "     'answer': 'we will be glad to take a look into this for you. How long has your device been malfunctioning? who is your carrier?'}},\n",
       "   {'score': 0.5625261,\n",
       "    'document': {'question': 'does Apple Watch charger covers under one year warranty',\n",
       "     'answer': 'We can provide some information on the warranty. Was this purchased separately or did it come with your Watch? Let us know in .'}},\n",
       "   {'score': 0.5588892,\n",
       "    'document': {'question': 'Problem with every iPhone charger! What to do when your phone is out of warranty!',\n",
       "     'answer': 'We can help with iPhone chargers! Could you Direct Message us and let us know what country you are located in?'}},\n",
       "   {'score': 0.5563759,\n",
       "    'document': {'question': 'Do you for good warranty on phones?',\n",
       "     'answer': 'While eBay does not offer warranties directly, you can purchase one for some electronics through SquareTrade'}},\n",
       "   {'score': 0.5553594,\n",
       "    'document': {'question': 'an employee lied to me and told me my PHONE was broken to get me to buy a new phone, but it was my charger that was broken',\n",
       "     'answer': 'Thanks for reaching out. we are here to help. message us so we can look into this further with you.'}},\n",
       "   {'score': 0.5542729,\n",
       "    'document': {'question': 'Does anyone know if there is a warrantee on the charging adapter for an iPhone? quit',\n",
       "     'answer': 'Great question. Which country are you contacting us from today? We want to provide you with the correct information. message us here'}},\n",
       "   {'score': 0.5526986,\n",
       "    'document': {'question': 'Hey is this covered under warrantee? Gonna take 40 minutes for a tech to see it at the AppleStore near me.',\n",
       "     'answer': 'Are you currently in an Apple Store? let us meet up in message to discuss our options.'}},\n",
       "   {'score': 0.54008657,\n",
       "    'document': {'question': 'random question I never thought I would need answered Is there earphone insurance I can get in case my cat eats through my Apple earphones? Like he just did. For next time I get Apple earphones...',\n",
       "     'answer': 'we would be happy to go over your options with you. Send us a DM, and we will get started.'}},\n",
       "   {'score': 0.5379268,\n",
       "    'document': {'question': 'My iPhone is under warranty till 20th October. there is a fault in charger, but service denied in India due to festive season.',\n",
       "     'answer': 'Thanks for reaching out to us today. let us take a closer look at your charger together in .'}},\n",
       "   {'score': 0.5347435,\n",
       "    'document': {'question': 'my charger broke',\n",
       "     'answer': 'Thanks for reaching out. message exactly what broke in regards to your charger so we can help.'}},\n",
       "   {'score': 0.5341137,\n",
       "    'document': {'question': 'hi, do all ur products have a warranty? I got my phone from my cell provider last November.',\n",
       "     'answer': 'Hi there. we are happy to answer your questions. Send us a message and we will be happy to answer your questions there.'}}],\n",
       "  0.47845078,\n",
       "  0.4782346,\n",
       "  0.575105129090909,\n",
       "  0.5675969000000001))"
      ]
     },
     "execution_count": 7,
     "metadata": {},
     "output_type": "execute_result"
    }
   ],
   "source": [
    "user_query = \"My cat chewed my phone charger. Is this covered under warranty?\"\n",
    "\n",
    "relevant_docs = retrieve_releveant_context(query = user_query, top_k=25)\n",
    "len(relevant_docs[0]) , relevant_docs"
   ]
  },
  {
   "cell_type": "markdown",
   "id": "465f0f4b",
   "metadata": {},
   "source": [
    "## Evaluate"
   ]
  },
  {
   "cell_type": "code",
   "execution_count": 21,
   "id": "0a0400bf",
   "metadata": {},
   "outputs": [
    {
     "data": {
      "application/vnd.jupyter.widget-view+json": {
       "model_id": "1b93593dce9144bd8ffba15a7b116b72",
       "version_major": 2,
       "version_minor": 0
      },
      "text/plain": [
       "Batches:   0%|          | 0/1 [00:00<?, ?it/s]"
      ]
     },
     "metadata": {},
     "output_type": "display_data"
    },
    {
     "data": {
      "application/vnd.jupyter.widget-view+json": {
       "model_id": "ceae32a24adf4247880c94053467ee15",
       "version_major": 2,
       "version_minor": 0
      },
      "text/plain": [
       "Batches:   0%|          | 0/1 [00:00<?, ?it/s]"
      ]
     },
     "metadata": {},
     "output_type": "display_data"
    },
    {
     "data": {
      "application/vnd.jupyter.widget-view+json": {
       "model_id": "fb72692704924b7e8295031f37ea4b9e",
       "version_major": 2,
       "version_minor": 0
      },
      "text/plain": [
       "Batches:   0%|          | 0/1 [00:00<?, ?it/s]"
      ]
     },
     "metadata": {},
     "output_type": "display_data"
    },
    {
     "data": {
      "application/vnd.jupyter.widget-view+json": {
       "model_id": "72e30d225e44403395265986a85f68a3",
       "version_major": 2,
       "version_minor": 0
      },
      "text/plain": [
       "Batches:   0%|          | 0/1 [00:00<?, ?it/s]"
      ]
     },
     "metadata": {},
     "output_type": "display_data"
    },
    {
     "name": "stdout",
     "output_type": "stream",
     "text": [
      "\n",
      "--- Positive Questions Evaluation ---\n",
      "Average time taken (mean):   0.0899 seconds\n",
      "Average time taken (median): 0.0789 seconds\n",
      "\n",
      "Inter-document similarity (mean of means):   0.6207\n",
      "Inter-document similarity (median of means): 0.6107\n",
      "Inter-document similarity (mean of medians): 0.6194\n",
      "Inter-document similarity (median of medians): 0.6106\n",
      "\n",
      "Document-query similarity (mean):   0.7905\n",
      "Document-query similarity (median): 0.7963\n",
      "Document-query similarity (mean of medians): 0.7792\n",
      "Document-query similarity (median of medians): 0.7806\n",
      "\n",
      "-------------------------------------\n",
      "\n"
     ]
    },
    {
     "data": {
      "application/vnd.jupyter.widget-view+json": {
       "model_id": "7ec214d234cd45c6a201a4f457e185b7",
       "version_major": 2,
       "version_minor": 0
      },
      "text/plain": [
       "Batches:   0%|          | 0/1 [00:00<?, ?it/s]"
      ]
     },
     "metadata": {},
     "output_type": "display_data"
    },
    {
     "data": {
      "application/vnd.jupyter.widget-view+json": {
       "model_id": "3dad4e6cddeb4b7bb2ff3bf2ac8fea3a",
       "version_major": 2,
       "version_minor": 0
      },
      "text/plain": [
       "Batches:   0%|          | 0/1 [00:00<?, ?it/s]"
      ]
     },
     "metadata": {},
     "output_type": "display_data"
    },
    {
     "name": "stdout",
     "output_type": "stream",
     "text": [
      "\n",
      "--- Negative Questions Evaluation ---\n",
      "Average time taken (mean):   0.1319 seconds\n",
      "Average time taken (median): 0.1319 seconds\n",
      "\n",
      "Inter-document similarity (mean of means):   0.5339\n",
      "Inter-document similarity (median of means): 0.5339\n",
      "Inter-document similarity (mean of medians): 0.5319\n",
      "Inter-document similarity (median of medians): 0.5319\n",
      "\n",
      "Document-query similarity (mean):   0.6459\n",
      "Document-query similarity (median): 0.6459\n",
      "Document-query similarity (mean of medians): 0.6396\n",
      "Document-query similarity (median of medians): 0.6396\n",
      "\n",
      "-------------------------------------\n",
      "\n"
     ]
    }
   ],
   "source": [
    "def evaluate_questions(questions, label, top_k=25):\n",
    "    inter_doc_sim_means = []\n",
    "    inter_doc_sim_medians = []\n",
    "    doc_query_sim_means = []\n",
    "    doc_query_sim_medians = []\n",
    "    times = []\n",
    "\n",
    "    for question in questions:\n",
    "        if isinstance(question, list):\n",
    "            qs = question\n",
    "        else:\n",
    "            qs = [question]\n",
    "        for q in qs:\n",
    "            start = time.time()\n",
    "            _, mean_inter_doc_sim, median_inter_doc_sim, mean_doc_query_sim, median_doc_query_sim = retrieve_releveant_context(query=q, top_k=top_k)\n",
    "            end = time.time()\n",
    "            times.append(end - start)\n",
    "            inter_doc_sim_means.append(mean_inter_doc_sim)\n",
    "            inter_doc_sim_medians.append(median_inter_doc_sim)\n",
    "            doc_query_sim_means.append(mean_doc_query_sim)\n",
    "            doc_query_sim_medians.append(median_doc_query_sim)\n",
    "\n",
    "    print(f\"\\n--- {label} Questions Evaluation ---\")\n",
    "    print(f\"Average time taken (mean):   {np.mean(times):.4f} seconds\")\n",
    "    print(f\"Average time taken (median): {np.median(times):.4f} seconds\\n\")\n",
    "\n",
    "    print(f\"Inter-document similarity (mean of means):   {np.mean(inter_doc_sim_means):.4f}\")\n",
    "    print(f\"Inter-document similarity (median of means): {np.median(inter_doc_sim_means):.4f}\")\n",
    "    print(f\"Inter-document similarity (mean of medians): {np.mean(inter_doc_sim_medians):.4f}\")\n",
    "    print(f\"Inter-document similarity (median of medians): {np.median(inter_doc_sim_medians):.4f}\\n\")\n",
    "\n",
    "    print(f\"Document-query similarity (mean):   {np.mean(doc_query_sim_means):.4f}\")\n",
    "    print(f\"Document-query similarity (median): {np.median(doc_query_sim_means):.4f}\")\n",
    "    print(f\"Document-query similarity (mean of medians): {np.mean(doc_query_sim_medians):.4f}\")\n",
    "    print(f\"Document-query similarity (median of medians): {np.median(doc_query_sim_medians):.4f}\")\n",
    "    print(\"\\n-------------------------------------\\n\")\n",
    "\n",
    "# Evaluate positive questions\n",
    "evaluate_questions(positive_questions, label=\"Positive\")\n",
    "\n",
    "# Evaluate negative questions\n",
    "evaluate_questions(negative_questions, label=\"Negative\")\n"
   ]
  },
  {
   "cell_type": "markdown",
   "id": "6f71bfe3",
   "metadata": {},
   "source": [
    "# Generation"
   ]
  },
  {
   "cell_type": "code",
   "execution_count": null,
   "id": "5f649bbe",
   "metadata": {},
   "outputs": [],
   "source": [
    "from ai.conversational.evaluate import evaluate_with_process_chat_history\n",
    "results = []\n",
    "for i, chat_history in enumerate(positive_questions):\n",
    "    if isinstance(chat_history, list):\n",
    "        print(f\"Processing {chat_history}\")\n",
    "        chat_history_list = []\n",
    "        for q in chat_history:\n",
    "            chat_history_list.append( \n",
    "                {\"role\": \"user\", \"content\": q},\n",
    "            )\n",
    "            df_response = evaluate_with_process_chat_history(chat_history_list)\n",
    "            results.append(df_response)\n",
    "            chat_history_list.append(\n",
    "                {\"role\": \"assistant\", \"content\": df_response.iloc[0]['response']}\n",
    "            )\n",
    "    else:\n",
    "        print(f\"Processing {chat_history}\")\n",
    "        chat_history = [\n",
    "            {\"role\": \"user\", \"content\": chat_history},\n",
    "        ]\n",
    "        results.append(df_response)\n",
    "        df_response = evaluate_with_process_chat_history(chat_history)\n"
   ]
  },
  {
   "cell_type": "code",
   "execution_count": 41,
   "id": "f98f2771",
   "metadata": {},
   "outputs": [
    {
     "data": {
      "text/html": [
       "<div>\n",
       "<style scoped>\n",
       "    .dataframe tbody tr th:only-of-type {\n",
       "        vertical-align: middle;\n",
       "    }\n",
       "\n",
       "    .dataframe tbody tr th {\n",
       "        vertical-align: top;\n",
       "    }\n",
       "\n",
       "    .dataframe thead th {\n",
       "        text-align: right;\n",
       "    }\n",
       "</style>\n",
       "<table border=\"1\" class=\"dataframe\">\n",
       "  <thead>\n",
       "    <tr style=\"text-align: right;\">\n",
       "      <th></th>\n",
       "      <th>user_input</th>\n",
       "      <th>retrieved_contexts</th>\n",
       "      <th>response</th>\n",
       "      <th>faithfulness</th>\n",
       "      <th>answer_relevancy</th>\n",
       "    </tr>\n",
       "  </thead>\n",
       "  <tbody>\n",
       "    <tr>\n",
       "      <th>0</th>\n",
       "      <td>I need help resetting my password.</td>\n",
       "      <td>[Question: i need help reseting my password pl...</td>\n",
       "      <td>Hi there. We would be happy to help. Please fo...</td>\n",
       "      <td>1.00</td>\n",
       "      <td>0.928176</td>\n",
       "    </tr>\n",
       "    <tr>\n",
       "      <th>0</th>\n",
       "      <td>I ordered a laptop, but it arrived with a brok...</td>\n",
       "      <td>[Question: help me out, I have bought a MacBoo...</td>\n",
       "      <td>1. Please report the issue to the support team...</td>\n",
       "      <td>0.75</td>\n",
       "      <td>0.866477</td>\n",
       "    </tr>\n",
       "    <tr>\n",
       "      <th>0</th>\n",
       "      <td>I need help resetting my password.</td>\n",
       "      <td>[Question: i need help reseting my password pl...</td>\n",
       "      <td>Hi there. We would be happy to help. Please fo...</td>\n",
       "      <td>1.00</td>\n",
       "      <td>0.928195</td>\n",
       "    </tr>\n",
       "    <tr>\n",
       "      <th>0</th>\n",
       "      <td>I didn’t receive the reset link.</td>\n",
       "      <td>[Question: i have not Receive The Reset Passwo...</td>\n",
       "      <td>1. Please check your Spam or Junk email folder...</td>\n",
       "      <td>1.00</td>\n",
       "      <td>0.868018</td>\n",
       "    </tr>\n",
       "  </tbody>\n",
       "</table>\n",
       "</div>"
      ],
      "text/plain": [
       "                                          user_input  \\\n",
       "0                 I need help resetting my password.   \n",
       "0  I ordered a laptop, but it arrived with a brok...   \n",
       "0                 I need help resetting my password.   \n",
       "0                   I didn’t receive the reset link.   \n",
       "\n",
       "                                  retrieved_contexts  \\\n",
       "0  [Question: i need help reseting my password pl...   \n",
       "0  [Question: help me out, I have bought a MacBoo...   \n",
       "0  [Question: i need help reseting my password pl...   \n",
       "0  [Question: i have not Receive The Reset Passwo...   \n",
       "\n",
       "                                            response  faithfulness  \\\n",
       "0  Hi there. We would be happy to help. Please fo...          1.00   \n",
       "0  1. Please report the issue to the support team...          0.75   \n",
       "0  Hi there. We would be happy to help. Please fo...          1.00   \n",
       "0  1. Please check your Spam or Junk email folder...          1.00   \n",
       "\n",
       "   answer_relevancy  \n",
       "0          0.928176  \n",
       "0          0.866477  \n",
       "0          0.928195  \n",
       "0          0.868018  "
      ]
     },
     "execution_count": 41,
     "metadata": {},
     "output_type": "execute_result"
    }
   ],
   "source": [
    "\n",
    "df = pd.concat(results)\n",
    "df"
   ]
  }
 ],
 "metadata": {
  "kernelspec": {
   "display_name": "image_entity_extract_env",
   "language": "python",
   "name": "python3"
  },
  "language_info": {
   "codemirror_mode": {
    "name": "ipython",
    "version": 3
   },
   "file_extension": ".py",
   "mimetype": "text/x-python",
   "name": "python",
   "nbconvert_exporter": "python",
   "pygments_lexer": "ipython3",
   "version": "3.12.3"
  }
 },
 "nbformat": 4,
 "nbformat_minor": 5
}
