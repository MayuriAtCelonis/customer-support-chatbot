{
 "cells": [
  {
   "cell_type": "code",
   "execution_count": 27,
   "metadata": {},
   "outputs": [],
   "source": [
    "# !pip install datasets\n",
    "# !pip install qdrant-client sentence-transformers datasets\n",
    "# !pip install --upgrade huggingface_hub\n",
    "# !python -c \"import huggingface_hub; print(huggingface_hub.__version__)\"\n",
    "# !pip uninstall huggingface_hub -y\n",
    "# !pip install huggingface_hub \n",
    "# !cat ~/miniconda3/envs/image_entity_extract_env/lib/python3.12/site-packages/huggingface_hub/errors.py | grep GatedRepoError\n",
    "\n",
    "!find ~/miniconda3/envs/image_entity_extract_env/lib/python3.12/site-packages/huggingface_hub -name \"*.pyc\" -delete\n"
   ]
  },
  {
   "cell_type": "code",
   "execution_count": 47,
   "metadata": {},
   "outputs": [],
   "source": [
    "import pandas as pd\n",
    "import numpy as np\n",
    "from datasets import load_dataset\n"
   ]
  },
  {
   "cell_type": "code",
   "execution_count": 48,
   "metadata": {},
   "outputs": [],
   "source": [
    "\n",
    "ds = load_dataset(\"MohammadOthman/mo-customer-support-tweets-945k\")"
   ]
  },
  {
   "cell_type": "code",
   "execution_count": 3,
   "metadata": {},
   "outputs": [
    {
     "data": {
      "text/plain": [
       "945278"
      ]
     },
     "execution_count": 3,
     "metadata": {},
     "output_type": "execute_result"
    }
   ],
   "source": [
    "len(ds['train'])"
   ]
  },
  {
   "cell_type": "markdown",
   "metadata": {},
   "source": [
    "# Embed "
   ]
  },
  {
   "cell_type": "markdown",
   "metadata": {},
   "source": [
    "## Load all data in qdrant"
   ]
  },
  {
   "cell_type": "code",
   "execution_count": 51,
   "metadata": {},
   "outputs": [
    {
     "name": "stderr",
     "output_type": "stream",
     "text": [
      "INFO:__main__:Loading embedding model 'all-MiniLM-L6-v2'...\n",
      "INFO:sentence_transformers.SentenceTransformer:Use pytorch device_name: mps\n",
      "INFO:sentence_transformers.SentenceTransformer:Load pretrained SentenceTransformer: all-MiniLM-L6-v2\n",
      "INFO:httpx:HTTP Request: GET http://localhost:6333 \"HTTP/1.1 200 OK\"\n",
      "INFO:httpx:HTTP Request: GET http://localhost:6333/collections/customer_support_tweets/exists \"HTTP/1.1 200 OK\"\n"
     ]
    },
    {
     "data": {
      "application/vnd.jupyter.widget-view+json": {
       "model_id": "d49a646878b64d1caf399d6d9cec38cb",
       "version_major": 2,
       "version_minor": 0
      },
      "text/plain": [
       "Batches:   0%|          | 0/16 [00:00<?, ?it/s]"
      ]
     },
     "metadata": {},
     "output_type": "display_data"
    },
    {
     "data": {
      "application/vnd.jupyter.widget-view+json": {
       "model_id": "c2994d525faa42108a08f44302faed82",
       "version_major": 2,
       "version_minor": 0
      },
      "text/plain": [
       "Batches:   0%|          | 0/16 [00:00<?, ?it/s]"
      ]
     },
     "metadata": {},
     "output_type": "display_data"
    },
    {
     "name": "stderr",
     "output_type": "stream",
     "text": [
      "INFO:__main__:Uploading 1000 vectors to Qdrant collection 'customer_support_tweets' in batches of 256...\n",
      "INFO:httpx:HTTP Request: PUT http://localhost:6333/collections/customer_support_tweets/points?wait=true \"HTTP/1.1 200 OK\"\n",
      "INFO:__main__:Upserted batch of 256 points.\n",
      "INFO:httpx:HTTP Request: PUT http://localhost:6333/collections/customer_support_tweets/points?wait=true \"HTTP/1.1 200 OK\"\n",
      "INFO:__main__:Upserted batch of 256 points.\n",
      "INFO:httpx:HTTP Request: PUT http://localhost:6333/collections/customer_support_tweets/points?wait=true \"HTTP/1.1 200 OK\"\n",
      "INFO:__main__:Upserted batch of 256 points.\n",
      "INFO:httpx:HTTP Request: PUT http://localhost:6333/collections/customer_support_tweets/points?wait=true \"HTTP/1.1 200 OK\"\n",
      "INFO:__main__:Upserted batch of 232 points.\n",
      "INFO:__main__:All batches upserted successfully.\n",
      "INFO:__main__:\n",
      "Searching for documents matching query: 'I am having trouble logging into my account'\n"
     ]
    },
    {
     "data": {
      "application/vnd.jupyter.widget-view+json": {
       "model_id": "280488f9f20941469d1314edb23fb24b",
       "version_major": 2,
       "version_minor": 0
      },
      "text/plain": [
       "Batches:   0%|          | 0/1 [00:00<?, ?it/s]"
      ]
     },
     "metadata": {},
     "output_type": "display_data"
    },
    {
     "name": "stderr",
     "output_type": "stream",
     "text": [
      "/var/folders/61/y4bwtp992cg3mpp0jbwvcprh0000gp/T/ipykernel_8794/4228529813.py:90: DeprecationWarning: `search` method is deprecated and will be removed in the future. Use `query_points` instead.\n",
      "  hits = client.search(\n",
      "INFO:httpx:HTTP Request: POST http://localhost:6333/collections/customer_support_tweets/points/search \"HTTP/1.1 200 OK\"\n",
      "INFO:__main__:Search results: 25\n",
      "INFO:__main__:Search results: 16\n",
      "INFO:__main__:Score: 0.7478 | Input: I need help with my Account, It gets disabled every time I try to login and it is getting really frustrating! | Reply: It seems a member of our team has reached out to you. Please check your email and follow up with them there.\n",
      "INFO:__main__:Score: 0.6445 | Input: I can’t log in because it’s locked. | Reply: The link TN provided will allow you to contact us without signing in! Select skip log in and you will be in touch in no time!\n",
      "INFO:__main__:Score: 0.5934 | Input: You have to log in. I do not remember the email address I used. Can you look up the account by my bank information? | Reply: It would be best if you get in touch with us by phone or chat.use this link to do so\n",
      "INFO:__main__:Score: 0.5816 | Input: um, my account was locked as soon as I tried to login on desktop. I still haven’t received an email on how to get it unlocked... | Reply: I am sorry your account is locked! Please reach out directly to us here so we can take a closer look.\n",
      "INFO:__main__:Score: 0.5769 | Input: Hi! Having issue with an old account, no idea what the login/email is for it but I know the | Reply: Hi there, Please check your DMs for further instructions.\n",
      "INFO:__main__:Score: 0.5735 | Input: Unfortunately it said that my account was temporarily locked out of the system still | Reply: For immediate assistance,pls contact us at the Customer Service number on the back of your Card. Thank you.\n",
      "INFO:__main__:Score: 0.5585 | Input: is down on the my account page | Reply: Hm, we have not had any reported errors lately. Have you tried accessing your RR account via a different browser?\n",
      "INFO:__main__:Score: 0.5494 | Input: I’m having trouble with My Choice account. Please Help! | Reply: Thank you for reaching out to us. Please message us details of your concern or compliment include your tracking and phone number. do not forget to provide your shipping address.\n",
      "INFO:__main__:Score: 0.5417 | Input: My account is telling me to reset my password but i dont know my date of birth but i know my password for the account. help | Reply: Glad to help! We have sent you a Direct Message via Twitter with further instructions.\n",
      "INFO:__main__:Score: 0.5140 | Input: I’m trying to make changes on my account but it keeps telling me I’ve been temporary locked out I already called to confirm my card | Reply: Hi Ashley. Which U.S. based card is this concerning? Please do not release any personal or card information. Clarissa\n",
      "INFO:__main__:Score: 0.5109 | Input: i reset my password 3 times and it still says incorrect you gotta be shitting me | Reply: I am sorry for the trouble! Have you tried the steps outlined here?\n",
      "INFO:__main__:Score: 0.5054 | Input: 2 and yet it will log me in regardless via iOS and website. What kind of lax security are you running? | Reply: sure to submit your feedback.\n",
      "INFO:__main__:Score: 0.4949 | Input: Whenever i go to play my game it says im on my old psn account which i deleted of my system. Ive used that account like once before | Reply: Thanks for the info. Make sure your PSN account has its own local user\n",
      "INFO:__main__:Score: 0.4900 | Input: hi, when I follow the link, dropbox asks me to log in with my biz account. I want to apply it to my personal account | Reply: Hi again, do you have two emails, a work and personal account, and are they linked? Are you able to login to your personal account first?\n",
      "INFO:__main__:Score: 0.4824 | Input: What else can I provide? They refuse to help me because they cannot validate the account... | Reply: We would not be able to verify anything without authenticating your account.\n",
      "INFO:__main__:Score: 0.4616 | Input: trying to sign up for autopay, your site tells me my checking account must be min 12 characters. Mine is 9. So??? | Reply: Please verify if this is referring your Verizon account number and not your banking?\n"
     ]
    }
   ],
   "source": [
    "import logging\n",
    "from datasets import load_dataset\n",
    "from sentence_transformers import SentenceTransformer\n",
    "from qdrant_client import QdrantClient\n",
    "from qdrant_client.http import models  # <-- ADD THIS IMPORT\n",
    "from qdrant_client.http.models import VectorParams\n",
    "\n",
    "logging.basicConfig(level=logging.INFO)\n",
    "logger = logging.getLogger(__name__)\n",
    "\n",
    "QDRANT_COLLECTION = \"customer_support_tweets\"\n",
    "\n",
    "def load_data(split=\"train\", limit=None):\n",
    "    \"\"\"\n",
    "    Load dataset from Hugging Face with optional limit for prototyping.\n",
    "    \"\"\"\n",
    "    logger.info(f\"Loading dataset split '{split}' from Hugging Face...\")\n",
    "    dataset = load_dataset(\"MohammadOthman/mo-customer-support-tweets-945k\", split=split)\n",
    "    if limit:\n",
    "        dataset = dataset.select(range(limit))\n",
    "    logger.info(f\"Loaded {len(dataset)} records.\")\n",
    "    return dataset\n",
    "\n",
    "def initialize_qdrant(collection_name, vector_size):\n",
    "    \"\"\"\n",
    "    Initialize Qdrant collection. Deletes existing collection if any.\n",
    "    \"\"\"\n",
    "    # Using a local, in-memory client for this example. \n",
    "    # Replace with QdrantClient(url=\"...\") for a remote server.\n",
    "    # Use a persistent Qdrant client (not in-memory) so it can be used by other threads/processes\n",
    "    # client = QdrantClient(path=\"qdrant_data\")  # This will persist data to ./qdrant_data directory\n",
    "    client = QdrantClient(host=\"localhost\", port=6333)\n",
    "    if client.collection_exists(collection_name) == False:\n",
    "\n",
    "        logger.info(f\"Creating collection '{collection_name}' with vector size {vector_size} and cosine distance...\")\n",
    "        client.create_collection(\n",
    "            collection_name=collection_name,\n",
    "            vectors_config=VectorParams(size=vector_size, distance=\"Cosine\")\n",
    "        )\n",
    "    return client\n",
    "\n",
    "def embed_texts(model, texts, batch_size=512):\n",
    "    \"\"\"\n",
    "    Embed a list of texts using SentenceTransformer in batches.\n",
    "    \"\"\"\n",
    "    embeddings = []\n",
    "    for i in range(0, len(texts), batch_size):\n",
    "        batch = texts[i:i+batch_size]\n",
    "        emb = model.encode(batch, show_progress_bar=True)\n",
    "        embeddings.extend(emb)\n",
    "    return embeddings\n",
    "\n",
    "# --- MODIFIED FUNCTION ---\n",
    "def upsert_data(client, collection_name, inputs, outputs, embeddings, batch_size=256):\n",
    "    \"\"\"\n",
    "    Upload vectors with payload to Qdrant in batches.\n",
    "    \"\"\"\n",
    "    logger.info(f\"Uploading {len(inputs)} vectors to Qdrant collection '{collection_name}' in batches of {batch_size}...\")\n",
    "    \n",
    "    points_batch = []\n",
    "    # Iterate through all data points\n",
    "    for idx, (inp, out, vec) in enumerate(zip(inputs, outputs, embeddings)):\n",
    "        # Create a PointStruct for each item\n",
    "        points_batch.append(\n",
    "            models.PointStruct(\n",
    "                id=idx,\n",
    "                vector=vec.tolist(),  # Convert numpy array to list\n",
    "                payload={\"input\": inp, \"reply\": out}\n",
    "            )\n",
    "        )\n",
    "\n",
    "        # When the batch is full or it's the last item, upsert it\n",
    "        if len(points_batch) >= batch_size or idx == len(inputs) - 1:\n",
    "            client.upsert(\n",
    "                collection_name=collection_name,\n",
    "                points=points_batch,\n",
    "                wait=True  # Wait for the operation to be indexed\n",
    "            )\n",
    "            logger.info(f\"Upserted batch of {len(points_batch)} points.\")\n",
    "            points_batch = []  # Clear the batch for the next set of points\n",
    "\n",
    "    logger.info(\"All batches upserted successfully.\")\n",
    "\n",
    "def search_similar(client, collection_name, model, query, top_k=25):\n",
    "    \"\"\"\n",
    "    Given a query string, embed and search in Qdrant.\n",
    "    Returns list of matched documents with scores.\n",
    "    \"\"\"\n",
    "    query_vec = model.encode([query])[0].tolist()\n",
    "    hits = client.search(\n",
    "        collection_name=collection_name,\n",
    "        query_vector=query_vec,\n",
    "        limit=top_k\n",
    "    )\n",
    "    results = []\n",
    "    for hit in hits:\n",
    "        results.append({\n",
    "            \"id\": hit.id,\n",
    "            \"score\": hit.score,\n",
    "            \"input\": hit.payload.get(\"input\"),\n",
    "            \"reply\": hit.payload.get(\"reply\")\n",
    "        })\n",
    "    return results\n",
    "\n",
    "def top_p_filtering(results, p=0.9, score_key=\"score\"):\n",
    "    \"\"\"\n",
    "    Given a list of results (dicts with a score), return the smallest set of results\n",
    "    whose normalized cumulative score >= p.\n",
    "    Assumes higher score is better.\n",
    "    \"\"\"\n",
    "    sorted_results = sorted(results, key=lambda x: x[score_key], reverse=True)\n",
    "    scores = [r[score_key] for r in sorted_results]\n",
    "    total = sum(scores)\n",
    "    if total == 0:\n",
    "        return []\n",
    "    normalized_scores = [s / total for s in scores]\n",
    "    cumulative = 0.0\n",
    "    filtered = []\n",
    "    for r, ns in zip(sorted_results, normalized_scores):\n",
    "        filtered.append(r)\n",
    "        cumulative += ns\n",
    "        if cumulative >= p:\n",
    "            break\n",
    "    return filtered\n",
    "\n",
    "def top_p_filtering_with_temperature(results, p=0.9, temperature=0.1, score_key=\"score\"):\n",
    "    \"\"\"\n",
    "    Apply temperature to scores, then do top-p (nucleus) filtering.\n",
    "    \"\"\"\n",
    "    if not results:\n",
    "        return []\n",
    "    scores = np.array([r[score_key] for r in results])\n",
    "    # Apply temperature to scores\n",
    "    if temperature != 1.0:\n",
    "        scores = scores / temperature\n",
    "    # Softmax to get probabilities\n",
    "    exp_scores = np.exp(scores - np.max(scores))  # for numerical stability\n",
    "    probs = exp_scores / np.sum(exp_scores)\n",
    "    # Sort results by probability descending\n",
    "    sorted_indices = np.argsort(probs)[::-1]\n",
    "    sorted_results = [results[i] for i in sorted_indices]\n",
    "    sorted_probs = probs[sorted_indices]\n",
    "    # Top-p filtering\n",
    "    cumulative = 0.0\n",
    "    filtered = []\n",
    "    for r, prob in zip(sorted_results, sorted_probs):\n",
    "        filtered.append(r)\n",
    "        cumulative += prob\n",
    "        if cumulative >= p:\n",
    "            break\n",
    "    return filtered\n",
    "\n",
    "def main():\n",
    "    # Load data (limit to 10k for prototyping, remove limit for full dataset)\n",
    "    global ds\n",
    "    dataset = ds['train'][:1000]\n",
    "    inputs = dataset[\"input\"]\n",
    "    outputs = dataset[\"output\"]\n",
    "\n",
    "    # Load embedding model\n",
    "    logger.info(\"Loading embedding model 'all-MiniLM-L6-v2'...\")\n",
    "    model = SentenceTransformer(\"all-MiniLM-L6-v2\")\n",
    "\n",
    "    # Initialize Qdrant collection\n",
    "    vector_size = model.get_sentence_embedding_dimension()\n",
    "    client = initialize_qdrant(QDRANT_COLLECTION, vector_size=vector_size)\n",
    "\n",
    "    # Embed inputs\n",
    "    embeddings = embed_texts(model, inputs)\n",
    "\n",
    "    # Upload vectors and payloads using the new batching function\n",
    "    upsert_data(client, QDRANT_COLLECTION, inputs, outputs, embeddings)\n",
    "\n",
    "    # Example query\n",
    "    user_query = \"I am having trouble logging into my account\"\n",
    "    logger.info(f\"\\nSearching for documents matching query: '{user_query}'\")\n",
    "    results = search_similar(client, QDRANT_COLLECTION, model, user_query)\n",
    "\n",
    "    # logger.info(\"Search results:\")\n",
    "    # for res in results:\n",
    "    #     logger.info(f\"Score: {res['score']:.4f} | Input: {res['input']} | Reply: {res['reply']}\")\n",
    "\n",
    "\n",
    "    logger.info(f\"Search results: {len(results)}\")\n",
    "    results_top_p = top_p_filtering_with_temperature(results , score_key=\"score\")\n",
    "    logger.info(f\"Search results: {len(results_top_p)}\")\n",
    "\n",
    "    for res in results_top_p:\n",
    "        logger.info(f\"Score: {res['score']:.4f} | Input: {res['input']} | Reply: {res['reply']}\")\n",
    "\n",
    "\n",
    "if __name__ == '__main__':\n",
    "    main()"
   ]
  },
  {
   "cell_type": "code",
   "execution_count": 52,
   "metadata": {},
   "outputs": [
    {
     "name": "stderr",
     "output_type": "stream",
     "text": [
      "INFO:httpx:HTTP Request: GET http://localhost:6333 \"HTTP/1.1 200 OK\"\n",
      "INFO:httpx:HTTP Request: POST http://localhost:6333/collections/customer_support_tweets/points/count \"HTTP/1.1 200 OK\"\n"
     ]
    },
    {
     "name": "stdout",
     "output_type": "stream",
     "text": [
      "count=1000\n"
     ]
    }
   ],
   "source": [
    "client = QdrantClient(host=\"localhost\", port=6333)\n",
    "print(client.count(collection_name=QDRANT_COLLECTION, exact=True))"
   ]
  },
  {
   "cell_type": "markdown",
   "metadata": {},
   "source": [
    "## test "
   ]
  },
  {
   "cell_type": "code",
   "execution_count": 12,
   "metadata": {},
   "outputs": [
    {
     "name": "stderr",
     "output_type": "stream",
     "text": [
      "INFO:sentence_transformers.SentenceTransformer:Use pytorch device_name: mps\n",
      "INFO:sentence_transformers.SentenceTransformer:Load pretrained SentenceTransformer: all-MiniLM-L6-v2\n",
      "INFO:httpx:HTTP Request: GET http://localhost:6333 \"HTTP/1.1 200 OK\"\n",
      "INFO:httpx:HTTP Request: GET http://localhost:6333/collections/customer_support_tweets/exists \"HTTP/1.1 200 OK\"\n",
      "INFO:__main__:\n",
      "Searching for documents matching query: 'Input: is the worst customer service | Reply: I would love the chance to review the account and provide assistance\t'\n"
     ]
    },
    {
     "data": {
      "application/vnd.jupyter.widget-view+json": {
       "model_id": "d728d4ec61404e1b97555f383b4f3aa1",
       "version_major": 2,
       "version_minor": 0
      },
      "text/plain": [
       "Batches:   0%|          | 0/1 [00:00<?, ?it/s]"
      ]
     },
     "metadata": {},
     "output_type": "display_data"
    },
    {
     "name": "stderr",
     "output_type": "stream",
     "text": [
      "/var/folders/61/y4bwtp992cg3mpp0jbwvcprh0000gp/T/ipykernel_74971/2116245645.py:90: DeprecationWarning: `search` method is deprecated and will be removed in the future. Use `query_points` instead.\n",
      "  hits = client.search(\n",
      "INFO:httpx:HTTP Request: POST http://localhost:6333/collections/customer_support_tweets/points/search \"HTTP/1.1 200 OK\"\n",
      "INFO:__main__:Search results: len(results)=25 , len(results_top_p)=23\n",
      "INFO:__main__:Score: 0.7390 | Input: undoubtedly the worst customer service. Informed you several times I am overseas due to passing of a close family member. Nevertheless you threaten to close my account bc I cannot send paperwork you already have. Very upsetting. | Reply: I appreciate the tweet amp would like to see how I can help. I am sorry to hear about the passing of your family member. Pls click link to send me your account type. For security, do not include any account numbers or PINs when responding. I hope to hear back soon.\n",
      "INFO:__main__:Score: 0.7194 | Input: Your customer service is terrible. Having to talk to multiple different people, all giving me nonanswers and passing me off to the next is terrible. Highly considering closing my account. I will tell all friends and family NEVER to bank with you. awful eerience. | Reply: I am truly sorry for the eerience you have had, Karl. Allow me to look into your concerns and provide support. In a DM, please tell me the reason for your call no account numbers, your full name, phone number, and address. Thank you.\n",
      "INFO:__main__:Score: 0.7059 | Input: customer service is the WORST ever! I am closing my account! Done with them | Reply: Hello, Do you have an issue with the customer service?\n",
      "INFO:__main__:Score: 0.7042 | Input: the worst customer services ever! I have 4 accounts with you and your disgusting staff would not give me their name or even the | Reply: Hi Stuart, please can you give us some more info on what is happened?\n",
      "INFO:__main__:Score: 0.6986 | Input: customer service is terrible , was told I could because of issues with services, I could down grade or cancel account . Great sales pitch ! | Reply: we are sorry to hear about the lessthanstellar eerience, William! Is there anything we can assist with here on Twitter?\n",
      "INFO:__main__:Score: 0.6970 | Input: Worst customer service ever. Literally running a scam on customers. They should be investigated . No one should ever use ! | Reply: Sorry that you had a poor eerience. Was there a specific issue we could help you with? You are welcome to send a message with details and customer number so we can take a look for you.\n",
      "INFO:__main__:Score: 0.6945 | Input: For the first time ever poor customer service by . Tried to leave a review and couldn’t and now can’t speak to someone | Reply: I am sorry to hear this. Can I ask for you to follow the instructions through the link below and please keep us posted\n",
      "INFO:__main__:Score: 0.6927 | Input: you have the worst customer service ever. I am pulling my personal and my business account from you. | Reply: Hello there! Thanks for reaching out I would love to help with any service issues. Would you be able to send us a...\n",
      "INFO:__main__:Score: 0.6877 | Input: your CustomerService CustomerEerience is frankly horrible and I highly recommend people bank elsewhere | Reply: we are sorry to hear this, and we would like to see what we can do to help. Will you please message your name, zip code and more details?\n",
      "INFO:__main__:Score: 0.6873 | Input: is the absolute worst ever!!! Customer service is horrible! Walking in bank to close accounts now! | Reply: Hi, I see you mentioned Chase in your tweet. Please message your name, zip, and details of any concerns that we can help with.\n",
      "INFO:__main__:Score: 0.6849 | Input: just wanna give a huge fuck You to literally worst customer service/bank I have ever dealt with | Reply: If not, we’d like to help. Thank you. nw\n",
      "INFO:__main__:Score: 0.6840 | Input: you have the absolute worst customer service! cannot wait to close all my accounts and go back to where customers are appreciated! | Reply: Hey Tim we would hate for you to close your accounts. Is there something we can help with? Just let us know. Thanks!\n",
      "INFO:__main__:Score: 0.6821 | Input: worst customer care. Neither they solve the issue nor respond to messages. worst CustomerService frustrated | Reply: Hey, Neelam. Please message us for an update regarding your concern.\n",
      "INFO:__main__:Score: 0.6817 | Input: very poor customer service, promised refund 2 weeks ago for a scam on my account and no joy | Reply: Hi Sue, sorry to hear this. Without revealing any account information, can you advise what has happened? .\n",
      "INFO:__main__:Score: 0.6804 | Input: so I sent this account a direct message a few weeks ago and never got a response. I was utterly upset seeing as something I paid for was not worth the amount I paid for. I see you take your customer satisfaction very seriously not!. | Reply: We want every guest eerience to be a great one. Please message us your email so we can make this right!\n",
      "INFO:__main__:Score: 0.6804 | Input: Been trying to get help with an account issue since last Thursday, but very disappointing customer care online. | Reply: Hi John, sorry we dropped the ball here. Would you mind DMing us your Adobe ID email so we can see what went wrong? Thanks!\n",
      "INFO:__main__:Score: 0.6768 | Input: so, are you willing to respond or? Literally the worst customer service I’ve ever had. | Reply: Hi! we have sent you a DM. Please take a moment to look at it. Thanks!\n",
      "INFO:__main__:Score: 0.6756 | Input: S/O to for having the worst customer service ever. We will be canceling our account | Reply: What happened?\n",
      "INFO:__main__:Score: 0.6751 | Input: you have the worst customer service I have ever seen. spoke to three different people, none of them spoke english very well but they kept trying to use big words that were obviously scripted???? took over an hour to make one change to my account. | Reply: Hi there, we are so sorry for the frustrating eerience. Can you provide more detail on your issue? We’re here to help!\n",
      "INFO:__main__:Score: 0.6733 | Input: has the worst customer service I’ve ever seen. I eect such a large company to provide well equipped competent help | Reply: We just followed up via your inapp support inquiry. Please check your messages in the Help section of your app for further assistance.\n",
      "INFO:__main__:Score: 0.6715 | Input: Your supposed customer service is disgusting. You have enough information to take unauthorised money from my account but absolutely no information on myself to refund it! I did my side to the point and get cheek and then hung up on! I’ve been a customer for about 20yrs! No more! | Reply: Please can you drop us a message so we can help further? Has the refund been processed now? Can you give us the latest information on what our customer service team have advised?\n",
      "INFO:__main__:Score: 0.6708 | Input: Need help getting through the quagmire of terrible customer service at your terrible company | Reply: Hi Jeff, we are here to help! Please message us your email and more details.\n",
      "INFO:__main__:Score: 0.6700 | Input: the worst possible customer service. Quite happy to take your money but once you have a service issue. | Reply: We do not want you to feel this way! Without sharing acct info, will you elaborate on what is happened? we are here to help!\n"
     ]
    }
   ],
   "source": [
    "model = SentenceTransformer(\"all-MiniLM-L6-v2\")\n",
    "vector_size = model.get_sentence_embedding_dimension()\n",
    "client = initialize_qdrant(QDRANT_COLLECTION, vector_size=vector_size)\n",
    "user_query = \"Input: is the worst customer service | Reply: I would love the chance to review the account and provide assistance\t\"\n",
    "logger.info(f\"\\nSearching for documents matching query: '{user_query}'\")\n",
    "results = search_similar(client, QDRANT_COLLECTION, model, user_query)\n",
    "\n",
    "results_top_p = top_p_filtering(results , score_key=\"score\")\n",
    "logger.info(f\"Search results: {len(results)=} , {len(results_top_p)=}\")\n",
    "\n",
    "for res in results_top_p:\n",
    "    logger.info(f\"Score: {res['score']:.4f} | Input: {res['input']} | Reply: {res['reply']}\")"
   ]
  },
  {
   "cell_type": "markdown",
   "metadata": {},
   "source": [
    "# Improvements which can be done\n",
    "\n",
    "- 1. identify duplicate data and remove -  quantify percentage of duplicate data and delete\n",
    "- 2. cluster similar questions together - and their answers together in one document row"
   ]
  },
  {
   "cell_type": "markdown",
   "metadata": {},
   "source": [
    "## Identify duplicate data and remove "
   ]
  },
  {
   "cell_type": "code",
   "execution_count": null,
   "metadata": {},
   "outputs": [
    {
     "name": "stderr",
     "output_type": "stream",
     "text": [
      "INFO:httpx:HTTP Request: GET http://localhost:6333 \"HTTP/1.1 200 OK\"\n",
      "INFO:httpx:HTTP Request: GET http://localhost:6333/collections/customer_support_tweets \"HTTP/1.1 200 OK\"\n"
     ]
    },
    {
     "name": "stdout",
     "output_type": "stream",
     "text": [
      "Attempting to flag duplicate sentences from existing Qdrant data (test mode, seeding from first 100)...\n",
      "Connecting to Qdrant at localhost:6333\n",
      "Collection 'customer_support_tweets' found. Total points: 945278\n",
      "Retrieving all 945278 points from Qdrant...\n"
     ]
    },
    {
     "name": "stderr",
     "output_type": "stream",
     "text": [
      "INFO:httpx:HTTP Request: POST http://localhost:6333/collections/customer_support_tweets/points/scroll \"HTTP/1.1 200 OK\"\n",
      "INFO:httpx:HTTP Request: POST http://localhost:6333/collections/customer_support_tweets/points/scroll \"HTTP/1.1 200 OK\"\n",
      "INFO:httpx:HTTP Request: POST http://localhost:6333/collections/customer_support_tweets/points/scroll \"HTTP/1.1 200 OK\"\n",
      "INFO:httpx:HTTP Request: POST http://localhost:6333/collections/customer_support_tweets/points/scroll \"HTTP/1.1 200 OK\"\n",
      "INFO:httpx:HTTP Request: POST http://localhost:6333/collections/customer_support_tweets/points/scroll \"HTTP/1.1 200 OK\"\n",
      "Flagging duplicate sentences:   1%|          | 1/100 [3:36:52<357:51:02, 13012.75s/it]\n",
      "INFO:httpx:HTTP Request: POST http://localhost:6333/collections/customer_support_tweets/points/scroll \"HTTP/1.1 200 OK\"\n",
      "INFO:httpx:HTTP Request: POST http://localhost:6333/collections/customer_support_tweets/points/scroll \"HTTP/1.1 200 OK\"\n",
      "INFO:httpx:HTTP Request: POST http://localhost:6333/collections/customer_support_tweets/points/scroll \"HTTP/1.1 200 OK\"\n",
      "INFO:httpx:HTTP Request: POST http://localhost:6333/collections/customer_support_tweets/points/scroll \"HTTP/1.1 200 OK\"\n",
      "INFO:httpx:HTTP Request: POST http://localhost:6333/collections/customer_support_tweets/points/scroll \"HTTP/1.1 200 OK\"\n",
      "INFO:httpx:HTTP Request: POST http://localhost:6333/collections/customer_support_tweets/points/scroll \"HTTP/1.1 200 OK\"\n",
      "INFO:httpx:HTTP Request: POST http://localhost:6333/collections/customer_support_tweets/points/scroll \"HTTP/1.1 200 OK\"\n",
      "INFO:httpx:HTTP Request: POST http://localhost:6333/collections/customer_support_tweets/points/scroll \"HTTP/1.1 200 OK\"\n",
      "INFO:httpx:HTTP Request: POST http://localhost:6333/collections/customer_support_tweets/points/scroll \"HTTP/1.1 200 OK\"\n",
      "INFO:httpx:HTTP Request: POST http://localhost:6333/collections/customer_support_tweets/points/scroll \"HTTP/1.1 200 OK\"\n",
      "INFO:httpx:HTTP Request: POST http://localhost:6333/collections/customer_support_tweets/points/scroll \"HTTP/1.1 200 OK\"\n",
      "INFO:httpx:HTTP Request: POST http://localhost:6333/collections/customer_support_tweets/points/scroll \"HTTP/1.1 200 OK\"\n",
      "INFO:httpx:HTTP Request: POST http://localhost:6333/collections/customer_support_tweets/points/scroll \"HTTP/1.1 200 OK\"\n",
      "INFO:httpx:HTTP Request: POST http://localhost:6333/collections/customer_support_tweets/points/scroll \"HTTP/1.1 200 OK\"\n",
      "INFO:httpx:HTTP Request: POST http://localhost:6333/collections/customer_support_tweets/points/scroll \"HTTP/1.1 200 OK\"\n",
      "INFO:httpx:HTTP Request: POST http://localhost:6333/collections/customer_support_tweets/points/scroll \"HTTP/1.1 200 OK\"\n",
      "INFO:httpx:HTTP Request: POST http://localhost:6333/collections/customer_support_tweets/points/scroll \"HTTP/1.1 200 OK\"\n",
      "INFO:httpx:HTTP Request: POST http://localhost:6333/collections/customer_support_tweets/points/scroll \"HTTP/1.1 200 OK\"\n",
      "INFO:httpx:HTTP Request: POST http://localhost:6333/collections/customer_support_tweets/points/scroll \"HTTP/1.1 200 OK\"\n",
      "INFO:httpx:HTTP Request: POST http://localhost:6333/collections/customer_support_tweets/points/scroll \"HTTP/1.1 200 OK\"\n",
      "INFO:httpx:HTTP Request: POST http://localhost:6333/collections/customer_support_tweets/points/scroll \"HTTP/1.1 200 OK\"\n",
      "INFO:httpx:HTTP Request: POST http://localhost:6333/collections/customer_support_tweets/points/scroll \"HTTP/1.1 200 OK\"\n",
      "INFO:httpx:HTTP Request: POST http://localhost:6333/collections/customer_support_tweets/points/scroll \"HTTP/1.1 200 OK\"\n",
      "INFO:httpx:HTTP Request: POST http://localhost:6333/collections/customer_support_tweets/points/scroll \"HTTP/1.1 200 OK\"\n",
      "INFO:httpx:HTTP Request: POST http://localhost:6333/collections/customer_support_tweets/points/scroll \"HTTP/1.1 200 OK\"\n",
      "INFO:httpx:HTTP Request: POST http://localhost:6333/collections/customer_support_tweets/points/scroll \"HTTP/1.1 200 OK\"\n",
      "INFO:httpx:HTTP Request: POST http://localhost:6333/collections/customer_support_tweets/points/scroll \"HTTP/1.1 200 OK\"\n",
      "INFO:httpx:HTTP Request: POST http://localhost:6333/collections/customer_support_tweets/points/scroll \"HTTP/1.1 200 OK\"\n",
      "INFO:httpx:HTTP Request: POST http://localhost:6333/collections/customer_support_tweets/points/scroll \"HTTP/1.1 200 OK\"\n",
      "INFO:httpx:HTTP Request: POST http://localhost:6333/collections/customer_support_tweets/points/scroll \"HTTP/1.1 200 OK\"\n",
      "INFO:httpx:HTTP Request: POST http://localhost:6333/collections/customer_support_tweets/points/scroll \"HTTP/1.1 200 OK\"\n",
      "INFO:httpx:HTTP Request: POST http://localhost:6333/collections/customer_support_tweets/points/scroll \"HTTP/1.1 200 OK\"\n",
      "INFO:httpx:HTTP Request: POST http://localhost:6333/collections/customer_support_tweets/points/scroll \"HTTP/1.1 200 OK\"\n",
      "INFO:httpx:HTTP Request: POST http://localhost:6333/collections/customer_support_tweets/points/scroll \"HTTP/1.1 200 OK\"\n",
      "INFO:httpx:HTTP Request: POST http://localhost:6333/collections/customer_support_tweets/points/scroll \"HTTP/1.1 200 OK\"\n",
      "INFO:httpx:HTTP Request: POST http://localhost:6333/collections/customer_support_tweets/points/scroll \"HTTP/1.1 200 OK\"\n",
      "INFO:httpx:HTTP Request: POST http://localhost:6333/collections/customer_support_tweets/points/scroll \"HTTP/1.1 200 OK\"\n",
      "INFO:httpx:HTTP Request: POST http://localhost:6333/collections/customer_support_tweets/points/scroll \"HTTP/1.1 200 OK\"\n",
      "INFO:httpx:HTTP Request: POST http://localhost:6333/collections/customer_support_tweets/points/scroll \"HTTP/1.1 200 OK\"\n",
      "INFO:httpx:HTTP Request: POST http://localhost:6333/collections/customer_support_tweets/points/scroll \"HTTP/1.1 200 OK\"\n",
      "INFO:httpx:HTTP Request: POST http://localhost:6333/collections/customer_support_tweets/points/scroll \"HTTP/1.1 200 OK\"\n",
      "INFO:httpx:HTTP Request: POST http://localhost:6333/collections/customer_support_tweets/points/scroll \"HTTP/1.1 200 OK\"\n",
      "INFO:httpx:HTTP Request: POST http://localhost:6333/collections/customer_support_tweets/points/scroll \"HTTP/1.1 200 OK\"\n",
      "INFO:httpx:HTTP Request: POST http://localhost:6333/collections/customer_support_tweets/points/scroll \"HTTP/1.1 200 OK\"\n",
      "INFO:httpx:HTTP Request: POST http://localhost:6333/collections/customer_support_tweets/points/scroll \"HTTP/1.1 200 OK\"\n",
      "INFO:httpx:HTTP Request: POST http://localhost:6333/collections/customer_support_tweets/points/scroll \"HTTP/1.1 200 OK\"\n",
      "INFO:httpx:HTTP Request: POST http://localhost:6333/collections/customer_support_tweets/points/scroll \"HTTP/1.1 200 OK\"\n",
      "INFO:httpx:HTTP Request: POST http://localhost:6333/collections/customer_support_tweets/points/scroll \"HTTP/1.1 200 OK\"\n",
      "INFO:httpx:HTTP Request: POST http://localhost:6333/collections/customer_support_tweets/points/scroll \"HTTP/1.1 200 OK\"\n",
      "INFO:httpx:HTTP Request: POST http://localhost:6333/collections/customer_support_tweets/points/scroll \"HTTP/1.1 200 OK\"\n",
      "INFO:httpx:HTTP Request: POST http://localhost:6333/collections/customer_support_tweets/points/scroll \"HTTP/1.1 200 OK\"\n",
      "INFO:httpx:HTTP Request: POST http://localhost:6333/collections/customer_support_tweets/points/scroll \"HTTP/1.1 200 OK\"\n",
      "INFO:httpx:HTTP Request: POST http://localhost:6333/collections/customer_support_tweets/points/scroll \"HTTP/1.1 200 OK\"\n",
      "INFO:httpx:HTTP Request: POST http://localhost:6333/collections/customer_support_tweets/points/scroll \"HTTP/1.1 200 OK\"\n",
      "INFO:httpx:HTTP Request: POST http://localhost:6333/collections/customer_support_tweets/points/scroll \"HTTP/1.1 200 OK\"\n",
      "INFO:httpx:HTTP Request: POST http://localhost:6333/collections/customer_support_tweets/points/scroll \"HTTP/1.1 200 OK\"\n",
      "INFO:httpx:HTTP Request: POST http://localhost:6333/collections/customer_support_tweets/points/scroll \"HTTP/1.1 200 OK\"\n",
      "INFO:httpx:HTTP Request: POST http://localhost:6333/collections/customer_support_tweets/points/scroll \"HTTP/1.1 200 OK\"\n",
      "INFO:httpx:HTTP Request: POST http://localhost:6333/collections/customer_support_tweets/points/scroll \"HTTP/1.1 200 OK\"\n",
      "INFO:httpx:HTTP Request: POST http://localhost:6333/collections/customer_support_tweets/points/scroll \"HTTP/1.1 200 OK\"\n",
      "INFO:httpx:HTTP Request: POST http://localhost:6333/collections/customer_support_tweets/points/scroll \"HTTP/1.1 200 OK\"\n",
      "INFO:httpx:HTTP Request: POST http://localhost:6333/collections/customer_support_tweets/points/scroll \"HTTP/1.1 200 OK\"\n",
      "INFO:httpx:HTTP Request: POST http://localhost:6333/collections/customer_support_tweets/points/scroll \"HTTP/1.1 200 OK\"\n",
      "INFO:httpx:HTTP Request: POST http://localhost:6333/collections/customer_support_tweets/points/scroll \"HTTP/1.1 200 OK\"\n",
      "INFO:httpx:HTTP Request: POST http://localhost:6333/collections/customer_support_tweets/points/scroll \"HTTP/1.1 200 OK\"\n",
      "INFO:httpx:HTTP Request: POST http://localhost:6333/collections/customer_support_tweets/points/scroll \"HTTP/1.1 200 OK\"\n",
      "INFO:httpx:HTTP Request: POST http://localhost:6333/collections/customer_support_tweets/points/scroll \"HTTP/1.1 200 OK\"\n",
      "INFO:httpx:HTTP Request: POST http://localhost:6333/collections/customer_support_tweets/points/scroll \"HTTP/1.1 200 OK\"\n",
      "INFO:httpx:HTTP Request: POST http://localhost:6333/collections/customer_support_tweets/points/scroll \"HTTP/1.1 200 OK\"\n",
      "INFO:httpx:HTTP Request: POST http://localhost:6333/collections/customer_support_tweets/points/scroll \"HTTP/1.1 200 OK\"\n",
      "INFO:httpx:HTTP Request: POST http://localhost:6333/collections/customer_support_tweets/points/scroll \"HTTP/1.1 200 OK\"\n",
      "INFO:httpx:HTTP Request: POST http://localhost:6333/collections/customer_support_tweets/points/scroll \"HTTP/1.1 200 OK\"\n",
      "INFO:httpx:HTTP Request: POST http://localhost:6333/collections/customer_support_tweets/points/scroll \"HTTP/1.1 200 OK\"\n",
      "INFO:httpx:HTTP Request: POST http://localhost:6333/collections/customer_support_tweets/points/scroll \"HTTP/1.1 200 OK\"\n",
      "INFO:httpx:HTTP Request: POST http://localhost:6333/collections/customer_support_tweets/points/scroll \"HTTP/1.1 200 OK\"\n",
      "INFO:httpx:HTTP Request: POST http://localhost:6333/collections/customer_support_tweets/points/scroll \"HTTP/1.1 200 OK\"\n",
      "INFO:httpx:HTTP Request: POST http://localhost:6333/collections/customer_support_tweets/points/scroll \"HTTP/1.1 200 OK\"\n",
      "INFO:httpx:HTTP Request: POST http://localhost:6333/collections/customer_support_tweets/points/scroll \"HTTP/1.1 200 OK\"\n",
      "INFO:httpx:HTTP Request: POST http://localhost:6333/collections/customer_support_tweets/points/scroll \"HTTP/1.1 200 OK\"\n",
      "INFO:httpx:HTTP Request: POST http://localhost:6333/collections/customer_support_tweets/points/scroll \"HTTP/1.1 200 OK\"\n",
      "INFO:httpx:HTTP Request: POST http://localhost:6333/collections/customer_support_tweets/points/scroll \"HTTP/1.1 200 OK\"\n",
      "INFO:httpx:HTTP Request: POST http://localhost:6333/collections/customer_support_tweets/points/scroll \"HTTP/1.1 200 OK\"\n",
      "INFO:httpx:HTTP Request: POST http://localhost:6333/collections/customer_support_tweets/points/scroll \"HTTP/1.1 200 OK\"\n",
      "INFO:httpx:HTTP Request: POST http://localhost:6333/collections/customer_support_tweets/points/scroll \"HTTP/1.1 200 OK\"\n",
      "INFO:httpx:HTTP Request: POST http://localhost:6333/collections/customer_support_tweets/points/scroll \"HTTP/1.1 200 OK\"\n",
      "INFO:httpx:HTTP Request: POST http://localhost:6333/collections/customer_support_tweets/points/scroll \"HTTP/1.1 200 OK\"\n",
      "INFO:httpx:HTTP Request: POST http://localhost:6333/collections/customer_support_tweets/points/scroll \"HTTP/1.1 200 OK\"\n",
      "INFO:httpx:HTTP Request: POST http://localhost:6333/collections/customer_support_tweets/points/scroll \"HTTP/1.1 200 OK\"\n",
      "INFO:httpx:HTTP Request: POST http://localhost:6333/collections/customer_support_tweets/points/scroll \"HTTP/1.1 200 OK\"\n",
      "INFO:httpx:HTTP Request: POST http://localhost:6333/collections/customer_support_tweets/points/scroll \"HTTP/1.1 200 OK\"\n",
      "Retrieving points: 100%|██████████| 945278/945278 [05:14<00:00, 3008.35it/s]\n"
     ]
    }
   ],
   "source": [
    "!python -m ai.retrieval.load.flag_duplicate_data"
   ]
  },
  {
   "cell_type": "code",
   "execution_count": 23,
   "metadata": {},
   "outputs": [
    {
     "data": {
      "text/plain": [
       "count    945278.000000\n",
       "mean     452125.246029\n",
       "std      269005.786724\n",
       "min           1.000000\n",
       "25%      217569.250000\n",
       "50%      450482.500000\n",
       "75%      685189.750000\n",
       "max      920799.000000\n",
       "Name: group, dtype: float64"
      ]
     },
     "execution_count": 23,
     "metadata": {},
     "output_type": "execute_result"
    }
   ],
   "source": [
    "import pandas as pd\n",
    "flagged_df = pd.read_csv('flagged_df_1000000.csv')\n",
    "flagged_df.info()\n",
    "flagged_df.head()\n",
    "\n",
    "flagged_df['group'].describe()"
   ]
  },
  {
   "cell_type": "code",
   "execution_count": 27,
   "metadata": {},
   "outputs": [
    {
     "data": {
      "text/html": [
       "<div>\n",
       "<style scoped>\n",
       "    .dataframe tbody tr th:only-of-type {\n",
       "        vertical-align: middle;\n",
       "    }\n",
       "\n",
       "    .dataframe tbody tr th {\n",
       "        vertical-align: top;\n",
       "    }\n",
       "\n",
       "    .dataframe thead th {\n",
       "        text-align: right;\n",
       "    }\n",
       "</style>\n",
       "<table border=\"1\" class=\"dataframe\">\n",
       "  <thead>\n",
       "    <tr style=\"text-align: right;\">\n",
       "      <th></th>\n",
       "      <th>qdrant_id</th>\n",
       "      <th>input_sentence</th>\n",
       "      <th>reply</th>\n",
       "      <th>group</th>\n",
       "      <th>grouped_with</th>\n",
       "    </tr>\n",
       "  </thead>\n",
       "  <tbody>\n",
       "    <tr>\n",
       "      <th>0</th>\n",
       "      <td>0</td>\n",
       "      <td>is the worst customer service</td>\n",
       "      <td>I would love the chance to review the account ...</td>\n",
       "      <td>1</td>\n",
       "      <td>[{'neighbor_id': 534289, 'score': 0.9574863}, ...</td>\n",
       "    </tr>\n",
       "    <tr>\n",
       "      <th>80733</th>\n",
       "      <td>80733</td>\n",
       "      <td>customer service is the absolute worst</td>\n",
       "      <td>We do not want you to have problems. what is t...</td>\n",
       "      <td>1</td>\n",
       "      <td>[{'neighbor_id': 784954, 'score': 0.9735185}, ...</td>\n",
       "    </tr>\n",
       "    <tr>\n",
       "      <th>160301</th>\n",
       "      <td>160301</td>\n",
       "      <td>customer service is the worst.</td>\n",
       "      <td>we are here for you. what is going on?</td>\n",
       "      <td>1</td>\n",
       "      <td>[{'neighbor_id': 784954, 'score': 0.97044206},...</td>\n",
       "    </tr>\n",
       "    <tr>\n",
       "      <th>264317</th>\n",
       "      <td>264317</td>\n",
       "      <td>customer service is the worst</td>\n",
       "      <td>Hello, I apologize about your eerience with us...</td>\n",
       "      <td>1</td>\n",
       "      <td>[{'neighbor_id': 0, 'score': 0.9556223}, {'nei...</td>\n",
       "    </tr>\n",
       "    <tr>\n",
       "      <th>340705</th>\n",
       "      <td>340705</td>\n",
       "      <td>customer service is the worst.</td>\n",
       "      <td>We see your message and will be following up v...</td>\n",
       "      <td>1</td>\n",
       "      <td>[{'neighbor_id': 784954, 'score': 0.97044206},...</td>\n",
       "    </tr>\n",
       "    <tr>\n",
       "      <th>534289</th>\n",
       "      <td>534289</td>\n",
       "      <td>is THE WORST IN CUSTOMER SERVICES.</td>\n",
       "      <td>Hey Asim! I am sorry for the frustration. Plea...</td>\n",
       "      <td>1</td>\n",
       "      <td>[{'neighbor_id': 0, 'score': 0.9574863}]</td>\n",
       "    </tr>\n",
       "    <tr>\n",
       "      <th>577984</th>\n",
       "      <td>577984</td>\n",
       "      <td>customer service is the absolute worst</td>\n",
       "      <td>Hey, Brian. I would like to offer my help to t...</td>\n",
       "      <td>1</td>\n",
       "      <td>[{'neighbor_id': 784954, 'score': 0.9735185}, ...</td>\n",
       "    </tr>\n",
       "    <tr>\n",
       "      <th>784954</th>\n",
       "      <td>784954</td>\n",
       "      <td>customer service is the worst</td>\n",
       "      <td>we are here for you! what is going on?</td>\n",
       "      <td>1</td>\n",
       "      <td>[{'neighbor_id': 0, 'score': 0.9556223}, {'nei...</td>\n",
       "    </tr>\n",
       "  </tbody>\n",
       "</table>\n",
       "</div>"
      ],
      "text/plain": [
       "        qdrant_id                          input_sentence  \\\n",
       "0               0           is the worst customer service   \n",
       "80733       80733  customer service is the absolute worst   \n",
       "160301     160301          customer service is the worst.   \n",
       "264317     264317           customer service is the worst   \n",
       "340705     340705          customer service is the worst.   \n",
       "534289     534289      is THE WORST IN CUSTOMER SERVICES.   \n",
       "577984     577984  customer service is the absolute worst   \n",
       "784954     784954           customer service is the worst   \n",
       "\n",
       "                                                    reply  group  \\\n",
       "0       I would love the chance to review the account ...      1   \n",
       "80733   We do not want you to have problems. what is t...      1   \n",
       "160301             we are here for you. what is going on?      1   \n",
       "264317  Hello, I apologize about your eerience with us...      1   \n",
       "340705  We see your message and will be following up v...      1   \n",
       "534289  Hey Asim! I am sorry for the frustration. Plea...      1   \n",
       "577984  Hey, Brian. I would like to offer my help to t...      1   \n",
       "784954             we are here for you! what is going on?      1   \n",
       "\n",
       "                                             grouped_with  \n",
       "0       [{'neighbor_id': 534289, 'score': 0.9574863}, ...  \n",
       "80733   [{'neighbor_id': 784954, 'score': 0.9735185}, ...  \n",
       "160301  [{'neighbor_id': 784954, 'score': 0.97044206},...  \n",
       "264317  [{'neighbor_id': 0, 'score': 0.9556223}, {'nei...  \n",
       "340705  [{'neighbor_id': 784954, 'score': 0.97044206},...  \n",
       "534289           [{'neighbor_id': 0, 'score': 0.9574863}]  \n",
       "577984  [{'neighbor_id': 784954, 'score': 0.9735185}, ...  \n",
       "784954  [{'neighbor_id': 0, 'score': 0.9556223}, {'nei...  "
      ]
     },
     "execution_count": 27,
     "metadata": {},
     "output_type": "execute_result"
    }
   ],
   "source": [
    "# 534289\n",
    "flagged_df[flagged_df['group'] == 1]\n",
    "# ['grouped_with']"
   ]
  },
  {
   "cell_type": "markdown",
   "metadata": {},
   "source": [
    "### delete duplicate rows"
   ]
  },
  {
   "cell_type": "code",
   "execution_count": 32,
   "metadata": {},
   "outputs": [
    {
     "data": {
      "text/html": [
       "<div>\n",
       "<style scoped>\n",
       "    .dataframe tbody tr th:only-of-type {\n",
       "        vertical-align: middle;\n",
       "    }\n",
       "\n",
       "    .dataframe tbody tr th {\n",
       "        vertical-align: top;\n",
       "    }\n",
       "\n",
       "    .dataframe thead th {\n",
       "        text-align: right;\n",
       "    }\n",
       "</style>\n",
       "<table border=\"1\" class=\"dataframe\">\n",
       "  <thead>\n",
       "    <tr style=\"text-align: right;\">\n",
       "      <th></th>\n",
       "      <th>qdrant_id</th>\n",
       "      <th>input_sentence</th>\n",
       "      <th>reply</th>\n",
       "      <th>group</th>\n",
       "      <th>grouped_with</th>\n",
       "    </tr>\n",
       "  </thead>\n",
       "  <tbody>\n",
       "    <tr>\n",
       "      <th>355</th>\n",
       "      <td>355</td>\n",
       "      <td>NaN</td>\n",
       "      <td>Thanks. It looks like that domain is not regis...</td>\n",
       "      <td>210</td>\n",
       "      <td>[{'neighbor_id': 209, 'score': 1.0}, {'neighbo...</td>\n",
       "    </tr>\n",
       "    <tr>\n",
       "      <th>414</th>\n",
       "      <td>414</td>\n",
       "      <td>NaN</td>\n",
       "      <td>Hi James, would you be able to let me know how...</td>\n",
       "      <td>210</td>\n",
       "      <td>[{'neighbor_id': 209, 'score': 1.0}, {'neighbo...</td>\n",
       "    </tr>\n",
       "    <tr>\n",
       "      <th>500</th>\n",
       "      <td>500</td>\n",
       "      <td>NaN</td>\n",
       "      <td>Oh my goodness – I love it! Nicely done. Becky</td>\n",
       "      <td>210</td>\n",
       "      <td>[{'neighbor_id': 209, 'score': 1.0}, {'neighbo...</td>\n",
       "    </tr>\n",
       "    <tr>\n",
       "      <th>567</th>\n",
       "      <td>567</td>\n",
       "      <td>NaN</td>\n",
       "      <td>Hi Carrie, awwww, they are awesome. Happy Hall...</td>\n",
       "      <td>210</td>\n",
       "      <td>[{'neighbor_id': 209, 'score': 1.0}, {'neighbo...</td>\n",
       "    </tr>\n",
       "    <tr>\n",
       "      <th>730</th>\n",
       "      <td>730</td>\n",
       "      <td>NaN</td>\n",
       "      <td>Got it. Are you getting a specific error messa...</td>\n",
       "      <td>210</td>\n",
       "      <td>[{'neighbor_id': 209, 'score': 1.0}, {'neighbo...</td>\n",
       "    </tr>\n",
       "    <tr>\n",
       "      <th>...</th>\n",
       "      <td>...</td>\n",
       "      <td>...</td>\n",
       "      <td>...</td>\n",
       "      <td>...</td>\n",
       "      <td>...</td>\n",
       "    </tr>\n",
       "    <tr>\n",
       "      <th>945128</th>\n",
       "      <td>945128</td>\n",
       "      <td>I need help As Soon As Possible</td>\n",
       "      <td>How may we assist?</td>\n",
       "      <td>5188</td>\n",
       "      <td>[{'neighbor_id': 5242, 'score': 0.9999999}, {'...</td>\n",
       "    </tr>\n",
       "    <tr>\n",
       "      <th>945145</th>\n",
       "      <td>945145</td>\n",
       "      <td>mobileCareXI Why is not my internet working?</td>\n",
       "      <td>Hi, I have responded to your DM. Please see an...</td>\n",
       "      <td>61677</td>\n",
       "      <td>[{'neighbor_id': 168760, 'score': 0.9536183}, ...</td>\n",
       "    </tr>\n",
       "    <tr>\n",
       "      <th>945210</th>\n",
       "      <td>945210</td>\n",
       "      <td>mobileCare</td>\n",
       "      <td>Are you having a billing or service issue that...</td>\n",
       "      <td>3005</td>\n",
       "      <td>[{'neighbor_id': 3029, 'score': 1.0000001}, {'...</td>\n",
       "    </tr>\n",
       "    <tr>\n",
       "      <th>945257</th>\n",
       "      <td>945257</td>\n",
       "      <td>架空請求きたよww しかとショートメールでAmazon相談係。</td>\n",
       "      <td>ご承知のとおり、残念ながら悪質な詐欺が増加しているようですのでお気を付けください。 を装った...</td>\n",
       "      <td>861714</td>\n",
       "      <td>[{'neighbor_id': 884396, 'score': 0.99392235}]</td>\n",
       "    </tr>\n",
       "    <tr>\n",
       "      <th>945271</th>\n",
       "      <td>945271</td>\n",
       "      <td>seriously ??</td>\n",
       "      <td>Sorry to see this. If anything is damaged insi...</td>\n",
       "      <td>349444</td>\n",
       "      <td>[{'neighbor_id': 357759, 'score': 0.9999999}, ...</td>\n",
       "    </tr>\n",
       "  </tbody>\n",
       "</table>\n",
       "<p>24479 rows × 5 columns</p>\n",
       "</div>"
      ],
      "text/plain": [
       "        qdrant_id                                input_sentence  \\\n",
       "355           355                                           NaN   \n",
       "414           414                                           NaN   \n",
       "500           500                                           NaN   \n",
       "567           567                                           NaN   \n",
       "730           730                                           NaN   \n",
       "...           ...                                           ...   \n",
       "945128     945128               I need help As Soon As Possible   \n",
       "945145     945145  mobileCareXI Why is not my internet working?   \n",
       "945210     945210                                    mobileCare   \n",
       "945257     945257               架空請求きたよww しかとショートメールでAmazon相談係。   \n",
       "945271     945271                                  seriously ??   \n",
       "\n",
       "                                                    reply   group  \\\n",
       "355     Thanks. It looks like that domain is not regis...     210   \n",
       "414     Hi James, would you be able to let me know how...     210   \n",
       "500        Oh my goodness – I love it! Nicely done. Becky     210   \n",
       "567     Hi Carrie, awwww, they are awesome. Happy Hall...     210   \n",
       "730     Got it. Are you getting a specific error messa...     210   \n",
       "...                                                   ...     ...   \n",
       "945128                                 How may we assist?    5188   \n",
       "945145  Hi, I have responded to your DM. Please see an...   61677   \n",
       "945210  Are you having a billing or service issue that...    3005   \n",
       "945257  ご承知のとおり、残念ながら悪質な詐欺が増加しているようですのでお気を付けください。 を装った...  861714   \n",
       "945271  Sorry to see this. If anything is damaged insi...  349444   \n",
       "\n",
       "                                             grouped_with  \n",
       "355     [{'neighbor_id': 209, 'score': 1.0}, {'neighbo...  \n",
       "414     [{'neighbor_id': 209, 'score': 1.0}, {'neighbo...  \n",
       "500     [{'neighbor_id': 209, 'score': 1.0}, {'neighbo...  \n",
       "567     [{'neighbor_id': 209, 'score': 1.0}, {'neighbo...  \n",
       "730     [{'neighbor_id': 209, 'score': 1.0}, {'neighbo...  \n",
       "...                                                   ...  \n",
       "945128  [{'neighbor_id': 5242, 'score': 0.9999999}, {'...  \n",
       "945145  [{'neighbor_id': 168760, 'score': 0.9536183}, ...  \n",
       "945210  [{'neighbor_id': 3029, 'score': 1.0000001}, {'...  \n",
       "945257     [{'neighbor_id': 884396, 'score': 0.99392235}]  \n",
       "945271  [{'neighbor_id': 357759, 'score': 0.9999999}, ...  \n",
       "\n",
       "[24479 rows x 5 columns]"
      ]
     },
     "execution_count": 32,
     "metadata": {},
     "output_type": "execute_result"
    }
   ],
   "source": [
    "flagged_df[flagged_df['group'].duplicated()]\n"
   ]
  },
  {
   "cell_type": "code",
   "execution_count": 44,
   "metadata": {},
   "outputs": [
    {
     "name": "stderr",
     "output_type": "stream",
     "text": [
      "INFO:httpx:HTTP Request: POST http://localhost:6333/collections/customer_support_tweets/points/delete?wait=true \"HTTP/1.1 200 OK\"\n"
     ]
    }
   ],
   "source": [
    "to_delete = flagged_df[flagged_df['group'].duplicated()]['qdrant_id'].to_list()\n",
    "result = client.delete(\n",
    "    collection_name=\"customer_support_tweets\",\n",
    "    points_selector=to_delete,\n",
    "    wait=True  # Set to True to wait for the operation to complete\n",
    ")"
   ]
  },
  {
   "cell_type": "code",
   "execution_count": 46,
   "metadata": {},
   "outputs": [
    {
     "name": "stderr",
     "output_type": "stream",
     "text": [
      "INFO:httpx:HTTP Request: POST http://localhost:6333/collections/customer_support_tweets/points/query \"HTTP/1.1 404 Not Found\"\n"
     ]
    },
    {
     "ename": "UnexpectedResponse",
     "evalue": "Unexpected Response: 404 (Not Found)\nRaw response content:\nb'{\"status\":{\"error\":\"Not found: No point with id 355 found\"},\"time\":0.000348834}'",
     "output_type": "error",
     "traceback": [
      "\u001b[0;31m---------------------------------------------------------------------------\u001b[0m",
      "\u001b[0;31mUnexpectedResponse\u001b[0m                        Traceback (most recent call last)",
      "Cell \u001b[0;32mIn[46], line 1\u001b[0m\n\u001b[0;32m----> 1\u001b[0m result \u001b[38;5;241m=\u001b[39m \u001b[43mclient\u001b[49m\u001b[38;5;241;43m.\u001b[39;49m\u001b[43mquery_points\u001b[49m\u001b[43m(\u001b[49m\n\u001b[1;32m      2\u001b[0m \u001b[43m    \u001b[49m\u001b[43mcollection_name\u001b[49m\u001b[38;5;241;43m=\u001b[39;49m\u001b[38;5;124;43m\"\u001b[39;49m\u001b[38;5;124;43mcustomer_support_tweets\u001b[39;49m\u001b[38;5;124;43m\"\u001b[39;49m\u001b[43m,\u001b[49m\n\u001b[1;32m      3\u001b[0m \u001b[43m    \u001b[49m\u001b[43mquery\u001b[49m\u001b[38;5;241;43m=\u001b[39;49m\u001b[43mto_delete\u001b[49m\u001b[43m[\u001b[49m\u001b[38;5;241;43m0\u001b[39;49m\u001b[43m]\u001b[49m\u001b[43m)\u001b[49m\n\u001b[1;32m      4\u001b[0m result\n",
      "File \u001b[0;32m~/miniconda3/envs/image_entity_extract_env/lib/python3.12/site-packages/qdrant_client/qdrant_client.py:593\u001b[0m, in \u001b[0;36mQdrantClient.query_points\u001b[0;34m(self, collection_name, query, using, prefetch, query_filter, search_params, limit, offset, with_payload, with_vectors, score_threshold, lookup_from, consistency, shard_key_selector, timeout, **kwargs)\u001b[0m\n\u001b[1;32m    578\u001b[0m         \u001b[38;5;28;01melse\u001b[39;00m:\n\u001b[1;32m    579\u001b[0m             prefetch \u001b[38;5;241m=\u001b[39m (\n\u001b[1;32m    580\u001b[0m                 \u001b[38;5;28mnext\u001b[39m(\n\u001b[1;32m    581\u001b[0m                     \u001b[38;5;28miter\u001b[39m(\n\u001b[0;32m   (...)\u001b[0m\n\u001b[1;32m    590\u001b[0m                 \u001b[38;5;28;01melse\u001b[39;00m \u001b[38;5;28;01mNone\u001b[39;00m\n\u001b[1;32m    591\u001b[0m             )\n\u001b[0;32m--> 593\u001b[0m \u001b[38;5;28;01mreturn\u001b[39;00m \u001b[38;5;28;43mself\u001b[39;49m\u001b[38;5;241;43m.\u001b[39;49m\u001b[43m_client\u001b[49m\u001b[38;5;241;43m.\u001b[39;49m\u001b[43mquery_points\u001b[49m\u001b[43m(\u001b[49m\n\u001b[1;32m    594\u001b[0m \u001b[43m    \u001b[49m\u001b[43mcollection_name\u001b[49m\u001b[38;5;241;43m=\u001b[39;49m\u001b[43mcollection_name\u001b[49m\u001b[43m,\u001b[49m\n\u001b[1;32m    595\u001b[0m \u001b[43m    \u001b[49m\u001b[43mquery\u001b[49m\u001b[38;5;241;43m=\u001b[39;49m\u001b[43mquery\u001b[49m\u001b[43m,\u001b[49m\n\u001b[1;32m    596\u001b[0m \u001b[43m    \u001b[49m\u001b[43mprefetch\u001b[49m\u001b[38;5;241;43m=\u001b[39;49m\u001b[43mprefetch\u001b[49m\u001b[43m,\u001b[49m\n\u001b[1;32m    597\u001b[0m \u001b[43m    \u001b[49m\u001b[43mquery_filter\u001b[49m\u001b[38;5;241;43m=\u001b[39;49m\u001b[43mquery_filter\u001b[49m\u001b[43m,\u001b[49m\n\u001b[1;32m    598\u001b[0m \u001b[43m    \u001b[49m\u001b[43msearch_params\u001b[49m\u001b[38;5;241;43m=\u001b[39;49m\u001b[43msearch_params\u001b[49m\u001b[43m,\u001b[49m\n\u001b[1;32m    599\u001b[0m \u001b[43m    \u001b[49m\u001b[43mlimit\u001b[49m\u001b[38;5;241;43m=\u001b[39;49m\u001b[43mlimit\u001b[49m\u001b[43m,\u001b[49m\n\u001b[1;32m    600\u001b[0m \u001b[43m    \u001b[49m\u001b[43moffset\u001b[49m\u001b[38;5;241;43m=\u001b[39;49m\u001b[43moffset\u001b[49m\u001b[43m,\u001b[49m\n\u001b[1;32m    601\u001b[0m \u001b[43m    \u001b[49m\u001b[43mwith_payload\u001b[49m\u001b[38;5;241;43m=\u001b[39;49m\u001b[43mwith_payload\u001b[49m\u001b[43m,\u001b[49m\n\u001b[1;32m    602\u001b[0m \u001b[43m    \u001b[49m\u001b[43mwith_vectors\u001b[49m\u001b[38;5;241;43m=\u001b[39;49m\u001b[43mwith_vectors\u001b[49m\u001b[43m,\u001b[49m\n\u001b[1;32m    603\u001b[0m \u001b[43m    \u001b[49m\u001b[43mscore_threshold\u001b[49m\u001b[38;5;241;43m=\u001b[39;49m\u001b[43mscore_threshold\u001b[49m\u001b[43m,\u001b[49m\n\u001b[1;32m    604\u001b[0m \u001b[43m    \u001b[49m\u001b[43musing\u001b[49m\u001b[38;5;241;43m=\u001b[39;49m\u001b[43musing\u001b[49m\u001b[43m,\u001b[49m\n\u001b[1;32m    605\u001b[0m \u001b[43m    \u001b[49m\u001b[43mlookup_from\u001b[49m\u001b[38;5;241;43m=\u001b[39;49m\u001b[43mlookup_from\u001b[49m\u001b[43m,\u001b[49m\n\u001b[1;32m    606\u001b[0m \u001b[43m    \u001b[49m\u001b[43mconsistency\u001b[49m\u001b[38;5;241;43m=\u001b[39;49m\u001b[43mconsistency\u001b[49m\u001b[43m,\u001b[49m\n\u001b[1;32m    607\u001b[0m \u001b[43m    \u001b[49m\u001b[43mshard_key_selector\u001b[49m\u001b[38;5;241;43m=\u001b[39;49m\u001b[43mshard_key_selector\u001b[49m\u001b[43m,\u001b[49m\n\u001b[1;32m    608\u001b[0m \u001b[43m    \u001b[49m\u001b[43mtimeout\u001b[49m\u001b[38;5;241;43m=\u001b[39;49m\u001b[43mtimeout\u001b[49m\u001b[43m,\u001b[49m\n\u001b[1;32m    609\u001b[0m \u001b[43m    \u001b[49m\u001b[38;5;241;43m*\u001b[39;49m\u001b[38;5;241;43m*\u001b[39;49m\u001b[43mkwargs\u001b[49m\u001b[43m,\u001b[49m\n\u001b[1;32m    610\u001b[0m \u001b[43m\u001b[49m\u001b[43m)\u001b[49m\n",
      "File \u001b[0;32m~/miniconda3/envs/image_entity_extract_env/lib/python3.12/site-packages/qdrant_client/qdrant_remote.py:673\u001b[0m, in \u001b[0;36mQdrantRemote.query_points\u001b[0;34m(self, collection_name, query, using, prefetch, query_filter, search_params, limit, offset, with_payload, with_vectors, score_threshold, lookup_from, consistency, shard_key_selector, timeout, **kwargs)\u001b[0m\n\u001b[1;32m    656\u001b[0m     lookup_from \u001b[38;5;241m=\u001b[39m GrpcToRest\u001b[38;5;241m.\u001b[39mconvert_lookup_location(lookup_from)\n\u001b[1;32m    658\u001b[0m query_request \u001b[38;5;241m=\u001b[39m models\u001b[38;5;241m.\u001b[39mQueryRequest(\n\u001b[1;32m    659\u001b[0m     shard_key\u001b[38;5;241m=\u001b[39mshard_key_selector,\n\u001b[1;32m    660\u001b[0m     prefetch\u001b[38;5;241m=\u001b[39mprefetch,\n\u001b[0;32m   (...)\u001b[0m\n\u001b[1;32m    670\u001b[0m     lookup_from\u001b[38;5;241m=\u001b[39mlookup_from,\n\u001b[1;32m    671\u001b[0m )\n\u001b[0;32m--> 673\u001b[0m query_result \u001b[38;5;241m=\u001b[39m \u001b[38;5;28;43mself\u001b[39;49m\u001b[38;5;241;43m.\u001b[39;49m\u001b[43mhttp\u001b[49m\u001b[38;5;241;43m.\u001b[39;49m\u001b[43msearch_api\u001b[49m\u001b[38;5;241;43m.\u001b[39;49m\u001b[43mquery_points\u001b[49m\u001b[43m(\u001b[49m\n\u001b[1;32m    674\u001b[0m \u001b[43m    \u001b[49m\u001b[43mcollection_name\u001b[49m\u001b[38;5;241;43m=\u001b[39;49m\u001b[43mcollection_name\u001b[49m\u001b[43m,\u001b[49m\n\u001b[1;32m    675\u001b[0m \u001b[43m    \u001b[49m\u001b[43mconsistency\u001b[49m\u001b[38;5;241;43m=\u001b[39;49m\u001b[43mconsistency\u001b[49m\u001b[43m,\u001b[49m\n\u001b[1;32m    676\u001b[0m \u001b[43m    \u001b[49m\u001b[43mtimeout\u001b[49m\u001b[38;5;241;43m=\u001b[39;49m\u001b[43mtimeout\u001b[49m\u001b[43m,\u001b[49m\n\u001b[1;32m    677\u001b[0m \u001b[43m    \u001b[49m\u001b[43mquery_request\u001b[49m\u001b[38;5;241;43m=\u001b[39;49m\u001b[43mquery_request\u001b[49m\u001b[43m,\u001b[49m\n\u001b[1;32m    678\u001b[0m \u001b[43m\u001b[49m\u001b[43m)\u001b[49m\n\u001b[1;32m    680\u001b[0m result: Optional[models\u001b[38;5;241m.\u001b[39mQueryResponse] \u001b[38;5;241m=\u001b[39m query_result\u001b[38;5;241m.\u001b[39mresult\n\u001b[1;32m    681\u001b[0m \u001b[38;5;28;01massert\u001b[39;00m result \u001b[38;5;129;01mis\u001b[39;00m \u001b[38;5;129;01mnot\u001b[39;00m \u001b[38;5;28;01mNone\u001b[39;00m, \u001b[38;5;124m\"\u001b[39m\u001b[38;5;124mSearch returned None\u001b[39m\u001b[38;5;124m\"\u001b[39m\n",
      "File \u001b[0;32m~/miniconda3/envs/image_entity_extract_env/lib/python3.12/site-packages/qdrant_client/http/api/search_api.py:783\u001b[0m, in \u001b[0;36mSyncSearchApi.query_points\u001b[0;34m(self, collection_name, consistency, timeout, query_request)\u001b[0m\n\u001b[1;32m    773\u001b[0m \u001b[38;5;28;01mdef\u001b[39;00m \u001b[38;5;21mquery_points\u001b[39m(\n\u001b[1;32m    774\u001b[0m     \u001b[38;5;28mself\u001b[39m,\n\u001b[1;32m    775\u001b[0m     collection_name: \u001b[38;5;28mstr\u001b[39m,\n\u001b[0;32m   (...)\u001b[0m\n\u001b[1;32m    778\u001b[0m     query_request: m\u001b[38;5;241m.\u001b[39mQueryRequest \u001b[38;5;241m=\u001b[39m \u001b[38;5;28;01mNone\u001b[39;00m,\n\u001b[1;32m    779\u001b[0m ) \u001b[38;5;241m-\u001b[39m\u001b[38;5;241m>\u001b[39m m\u001b[38;5;241m.\u001b[39mInlineResponse20022:\n\u001b[1;32m    780\u001b[0m \u001b[38;5;250m    \u001b[39m\u001b[38;5;124;03m\"\"\"\u001b[39;00m\n\u001b[1;32m    781\u001b[0m \u001b[38;5;124;03m    Universally query points. This endpoint covers all capabilities of search, recommend, discover, filters. But also enables hybrid and multi-stage queries.\u001b[39;00m\n\u001b[1;32m    782\u001b[0m \u001b[38;5;124;03m    \"\"\"\u001b[39;00m\n\u001b[0;32m--> 783\u001b[0m     \u001b[38;5;28;01mreturn\u001b[39;00m \u001b[38;5;28;43mself\u001b[39;49m\u001b[38;5;241;43m.\u001b[39;49m\u001b[43m_build_for_query_points\u001b[49m\u001b[43m(\u001b[49m\n\u001b[1;32m    784\u001b[0m \u001b[43m        \u001b[49m\u001b[43mcollection_name\u001b[49m\u001b[38;5;241;43m=\u001b[39;49m\u001b[43mcollection_name\u001b[49m\u001b[43m,\u001b[49m\n\u001b[1;32m    785\u001b[0m \u001b[43m        \u001b[49m\u001b[43mconsistency\u001b[49m\u001b[38;5;241;43m=\u001b[39;49m\u001b[43mconsistency\u001b[49m\u001b[43m,\u001b[49m\n\u001b[1;32m    786\u001b[0m \u001b[43m        \u001b[49m\u001b[43mtimeout\u001b[49m\u001b[38;5;241;43m=\u001b[39;49m\u001b[43mtimeout\u001b[49m\u001b[43m,\u001b[49m\n\u001b[1;32m    787\u001b[0m \u001b[43m        \u001b[49m\u001b[43mquery_request\u001b[49m\u001b[38;5;241;43m=\u001b[39;49m\u001b[43mquery_request\u001b[49m\u001b[43m,\u001b[49m\n\u001b[1;32m    788\u001b[0m \u001b[43m    \u001b[49m\u001b[43m)\u001b[49m\n",
      "File \u001b[0;32m~/miniconda3/envs/image_entity_extract_env/lib/python3.12/site-packages/qdrant_client/http/api/search_api.py:181\u001b[0m, in \u001b[0;36m_SearchApi._build_for_query_points\u001b[0;34m(self, collection_name, consistency, timeout, query_request)\u001b[0m\n\u001b[1;32m    179\u001b[0m \u001b[38;5;28;01mif\u001b[39;00m \u001b[38;5;124m\"\u001b[39m\u001b[38;5;124mContent-Type\u001b[39m\u001b[38;5;124m\"\u001b[39m \u001b[38;5;129;01mnot\u001b[39;00m \u001b[38;5;129;01min\u001b[39;00m headers:\n\u001b[1;32m    180\u001b[0m     headers[\u001b[38;5;124m\"\u001b[39m\u001b[38;5;124mContent-Type\u001b[39m\u001b[38;5;124m\"\u001b[39m] \u001b[38;5;241m=\u001b[39m \u001b[38;5;124m\"\u001b[39m\u001b[38;5;124mapplication/json\u001b[39m\u001b[38;5;124m\"\u001b[39m\n\u001b[0;32m--> 181\u001b[0m \u001b[38;5;28;01mreturn\u001b[39;00m \u001b[38;5;28;43mself\u001b[39;49m\u001b[38;5;241;43m.\u001b[39;49m\u001b[43mapi_client\u001b[49m\u001b[38;5;241;43m.\u001b[39;49m\u001b[43mrequest\u001b[49m\u001b[43m(\u001b[49m\n\u001b[1;32m    182\u001b[0m \u001b[43m    \u001b[49m\u001b[43mtype_\u001b[49m\u001b[38;5;241;43m=\u001b[39;49m\u001b[43mm\u001b[49m\u001b[38;5;241;43m.\u001b[39;49m\u001b[43mInlineResponse20022\u001b[49m\u001b[43m,\u001b[49m\n\u001b[1;32m    183\u001b[0m \u001b[43m    \u001b[49m\u001b[43mmethod\u001b[49m\u001b[38;5;241;43m=\u001b[39;49m\u001b[38;5;124;43m\"\u001b[39;49m\u001b[38;5;124;43mPOST\u001b[39;49m\u001b[38;5;124;43m\"\u001b[39;49m\u001b[43m,\u001b[49m\n\u001b[1;32m    184\u001b[0m \u001b[43m    \u001b[49m\u001b[43murl\u001b[49m\u001b[38;5;241;43m=\u001b[39;49m\u001b[38;5;124;43m\"\u001b[39;49m\u001b[38;5;124;43m/collections/\u001b[39;49m\u001b[38;5;132;43;01m{collection_name}\u001b[39;49;00m\u001b[38;5;124;43m/points/query\u001b[39;49m\u001b[38;5;124;43m\"\u001b[39;49m\u001b[43m,\u001b[49m\n\u001b[1;32m    185\u001b[0m \u001b[43m    \u001b[49m\u001b[43mheaders\u001b[49m\u001b[38;5;241;43m=\u001b[39;49m\u001b[43mheaders\u001b[49m\u001b[43m \u001b[49m\u001b[38;5;28;43;01mif\u001b[39;49;00m\u001b[43m \u001b[49m\u001b[43mheaders\u001b[49m\u001b[43m \u001b[49m\u001b[38;5;28;43;01melse\u001b[39;49;00m\u001b[43m \u001b[49m\u001b[38;5;28;43;01mNone\u001b[39;49;00m\u001b[43m,\u001b[49m\n\u001b[1;32m    186\u001b[0m \u001b[43m    \u001b[49m\u001b[43mpath_params\u001b[49m\u001b[38;5;241;43m=\u001b[39;49m\u001b[43mpath_params\u001b[49m\u001b[43m,\u001b[49m\n\u001b[1;32m    187\u001b[0m \u001b[43m    \u001b[49m\u001b[43mparams\u001b[49m\u001b[38;5;241;43m=\u001b[39;49m\u001b[43mquery_params\u001b[49m\u001b[43m,\u001b[49m\n\u001b[1;32m    188\u001b[0m \u001b[43m    \u001b[49m\u001b[43mcontent\u001b[49m\u001b[38;5;241;43m=\u001b[39;49m\u001b[43mbody\u001b[49m\u001b[43m,\u001b[49m\n\u001b[1;32m    189\u001b[0m \u001b[43m\u001b[49m\u001b[43m)\u001b[49m\n",
      "File \u001b[0;32m~/miniconda3/envs/image_entity_extract_env/lib/python3.12/site-packages/qdrant_client/http/api_client.py:95\u001b[0m, in \u001b[0;36mApiClient.request\u001b[0;34m(self, type_, method, url, path_params, **kwargs)\u001b[0m\n\u001b[1;32m     93\u001b[0m     kwargs[\u001b[38;5;124m\"\u001b[39m\u001b[38;5;124mtimeout\u001b[39m\u001b[38;5;124m\"\u001b[39m] \u001b[38;5;241m=\u001b[39m \u001b[38;5;28mint\u001b[39m(kwargs[\u001b[38;5;124m\"\u001b[39m\u001b[38;5;124mparams\u001b[39m\u001b[38;5;124m\"\u001b[39m][\u001b[38;5;124m\"\u001b[39m\u001b[38;5;124mtimeout\u001b[39m\u001b[38;5;124m\"\u001b[39m])\n\u001b[1;32m     94\u001b[0m request \u001b[38;5;241m=\u001b[39m \u001b[38;5;28mself\u001b[39m\u001b[38;5;241m.\u001b[39m_client\u001b[38;5;241m.\u001b[39mbuild_request(method, url, \u001b[38;5;241m*\u001b[39m\u001b[38;5;241m*\u001b[39mkwargs)\n\u001b[0;32m---> 95\u001b[0m \u001b[38;5;28;01mreturn\u001b[39;00m \u001b[38;5;28;43mself\u001b[39;49m\u001b[38;5;241;43m.\u001b[39;49m\u001b[43msend\u001b[49m\u001b[43m(\u001b[49m\u001b[43mrequest\u001b[49m\u001b[43m,\u001b[49m\u001b[43m \u001b[49m\u001b[43mtype_\u001b[49m\u001b[43m)\u001b[49m\n",
      "File \u001b[0;32m~/miniconda3/envs/image_entity_extract_env/lib/python3.12/site-packages/qdrant_client/http/api_client.py:130\u001b[0m, in \u001b[0;36mApiClient.send\u001b[0;34m(self, request, type_)\u001b[0m\n\u001b[1;32m    128\u001b[0m     \u001b[38;5;28;01mexcept\u001b[39;00m ValidationError \u001b[38;5;28;01mas\u001b[39;00m e:\n\u001b[1;32m    129\u001b[0m         \u001b[38;5;28;01mraise\u001b[39;00m ResponseHandlingException(e)\n\u001b[0;32m--> 130\u001b[0m \u001b[38;5;28;01mraise\u001b[39;00m UnexpectedResponse\u001b[38;5;241m.\u001b[39mfor_response(response)\n",
      "\u001b[0;31mUnexpectedResponse\u001b[0m: Unexpected Response: 404 (Not Found)\nRaw response content:\nb'{\"status\":{\"error\":\"Not found: No point with id 355 found\"},\"time\":0.000348834}'"
     ]
    }
   ],
   "source": [
    "result = client.query_points(\n",
    "    collection_name=\"customer_support_tweets\",\n",
    "    query=to_delete[0])\n",
    "result"
   ]
  },
  {
   "cell_type": "code",
   "execution_count": null,
   "metadata": {},
   "outputs": [],
   "source": []
  }
 ],
 "metadata": {
  "kernelspec": {
   "display_name": "image_entity_extract_env",
   "language": "python",
   "name": "python3"
  },
  "language_info": {
   "codemirror_mode": {
    "name": "ipython",
    "version": 3
   },
   "file_extension": ".py",
   "mimetype": "text/x-python",
   "name": "python",
   "nbconvert_exporter": "python",
   "pygments_lexer": "ipython3",
   "version": "3.12.3"
  }
 },
 "nbformat": 4,
 "nbformat_minor": 2
}
